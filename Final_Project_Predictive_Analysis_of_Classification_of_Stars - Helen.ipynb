{
 "cells": [
  {
   "cell_type": "markdown",
   "id": "0f56cd0c",
   "metadata": {},
   "source": [
    "## Importing"
   ]
  },
  {
   "cell_type": "code",
   "execution_count": 1,
   "id": "e795c5e5",
   "metadata": {
    "ExecuteTime": {
     "end_time": "2022-11-30T12:06:44.636469Z",
     "start_time": "2022-11-30T12:06:43.117063Z"
    }
   },
   "outputs": [],
   "source": [
    "import pandas as pd\n",
    "import numpy as np\n",
    "\n",
    "from sklearn.neighbors import KNeighborsClassifier\n",
    "from sklearn.ensemble import RandomForestClassifier\n",
    "from sklearn.tree import DecisionTreeClassifier\n",
    "from sklearn.tree import plot_tree\n",
    "from sklearn import tree\n",
    "from sklearn.model_selection import train_test_split\n",
    "from sklearn.preprocessing import StandardScaler\n",
    "from sklearn.metrics import confusion_matrix\n",
    "from sklearn.metrics import f1_score\n",
    "from sklearn.metrics import accuracy_score\n",
    "from sklearn.metrics import classification_report\n",
    "\n",
    "import matplotlib.pyplot as plt\n",
    "import seaborn as sns\n",
    "%matplotlib inline"
   ]
  },
  {
   "cell_type": "code",
   "execution_count": 2,
   "id": "aa547c83",
   "metadata": {
    "ExecuteTime": {
     "end_time": "2022-11-30T12:06:46.847838Z",
     "start_time": "2022-11-30T12:06:46.787553Z"
    }
   },
   "outputs": [
    {
     "data": {
      "text/html": [
       "<div>\n",
       "<style scoped>\n",
       "    .dataframe tbody tr th:only-of-type {\n",
       "        vertical-align: middle;\n",
       "    }\n",
       "\n",
       "    .dataframe tbody tr th {\n",
       "        vertical-align: top;\n",
       "    }\n",
       "\n",
       "    .dataframe thead th {\n",
       "        text-align: right;\n",
       "    }\n",
       "</style>\n",
       "<table border=\"1\" class=\"dataframe\">\n",
       "  <thead>\n",
       "    <tr style=\"text-align: right;\">\n",
       "      <th></th>\n",
       "      <th>Vmag</th>\n",
       "      <th>Plx</th>\n",
       "      <th>Plx_abs</th>\n",
       "      <th>e_plx</th>\n",
       "      <th>B-V</th>\n",
       "      <th>SpType</th>\n",
       "      <th>Distance (pc)</th>\n",
       "      <th>abs_Vmag</th>\n",
       "      <th>Target</th>\n",
       "    </tr>\n",
       "  </thead>\n",
       "  <tbody>\n",
       "    <tr>\n",
       "      <th>0</th>\n",
       "      <td>8.93</td>\n",
       "      <td>0.41</td>\n",
       "      <td>0.41</td>\n",
       "      <td>1.14</td>\n",
       "      <td>0.06</td>\n",
       "      <td>A0V</td>\n",
       "      <td>2.44</td>\n",
       "      <td>11.99</td>\n",
       "      <td>0</td>\n",
       "    </tr>\n",
       "    <tr>\n",
       "      <th>1</th>\n",
       "      <td>6.44</td>\n",
       "      <td>4.44</td>\n",
       "      <td>4.44</td>\n",
       "      <td>0.51</td>\n",
       "      <td>1.52</td>\n",
       "      <td>K3/K4III</td>\n",
       "      <td>0.23</td>\n",
       "      <td>14.68</td>\n",
       "      <td>1</td>\n",
       "    </tr>\n",
       "    <tr>\n",
       "      <th>2</th>\n",
       "      <td>8.77</td>\n",
       "      <td>4.39</td>\n",
       "      <td>4.39</td>\n",
       "      <td>1.16</td>\n",
       "      <td>1.31</td>\n",
       "      <td>K2IIICN...</td>\n",
       "      <td>0.23</td>\n",
       "      <td>16.98</td>\n",
       "      <td>1</td>\n",
       "    </tr>\n",
       "    <tr>\n",
       "      <th>3</th>\n",
       "      <td>8.28</td>\n",
       "      <td>5.35</td>\n",
       "      <td>5.35</td>\n",
       "      <td>1.23</td>\n",
       "      <td>1.17</td>\n",
       "      <td>K1III</td>\n",
       "      <td>0.19</td>\n",
       "      <td>16.92</td>\n",
       "      <td>1</td>\n",
       "    </tr>\n",
       "    <tr>\n",
       "      <th>4</th>\n",
       "      <td>8.26</td>\n",
       "      <td>9.22</td>\n",
       "      <td>9.22</td>\n",
       "      <td>1.00</td>\n",
       "      <td>0.44</td>\n",
       "      <td>F3V</td>\n",
       "      <td>0.11</td>\n",
       "      <td>18.08</td>\n",
       "      <td>0</td>\n",
       "    </tr>\n",
       "    <tr>\n",
       "      <th>...</th>\n",
       "      <td>...</td>\n",
       "      <td>...</td>\n",
       "      <td>...</td>\n",
       "      <td>...</td>\n",
       "      <td>...</td>\n",
       "      <td>...</td>\n",
       "      <td>...</td>\n",
       "      <td>...</td>\n",
       "      <td>...</td>\n",
       "    </tr>\n",
       "    <tr>\n",
       "      <th>41745</th>\n",
       "      <td>6.22</td>\n",
       "      <td>12.07</td>\n",
       "      <td>12.07</td>\n",
       "      <td>0.56</td>\n",
       "      <td>0.19</td>\n",
       "      <td>A5V</td>\n",
       "      <td>0.08</td>\n",
       "      <td>16.63</td>\n",
       "      <td>0</td>\n",
       "    </tr>\n",
       "    <tr>\n",
       "      <th>41746</th>\n",
       "      <td>8.18</td>\n",
       "      <td>3.43</td>\n",
       "      <td>3.43</td>\n",
       "      <td>0.65</td>\n",
       "      <td>0.07</td>\n",
       "      <td>B9.5IV/V</td>\n",
       "      <td>0.29</td>\n",
       "      <td>15.86</td>\n",
       "      <td>1</td>\n",
       "    </tr>\n",
       "    <tr>\n",
       "      <th>41747</th>\n",
       "      <td>8.91</td>\n",
       "      <td>10.52</td>\n",
       "      <td>10.52</td>\n",
       "      <td>0.79</td>\n",
       "      <td>0.70</td>\n",
       "      <td>G3V</td>\n",
       "      <td>0.10</td>\n",
       "      <td>19.02</td>\n",
       "      <td>0</td>\n",
       "    </tr>\n",
       "    <tr>\n",
       "      <th>41748</th>\n",
       "      <td>6.70</td>\n",
       "      <td>2.95</td>\n",
       "      <td>2.95</td>\n",
       "      <td>0.56</td>\n",
       "      <td>1.46</td>\n",
       "      <td>K3/K4III</td>\n",
       "      <td>0.34</td>\n",
       "      <td>14.05</td>\n",
       "      <td>1</td>\n",
       "    </tr>\n",
       "    <tr>\n",
       "      <th>41749</th>\n",
       "      <td>9.65</td>\n",
       "      <td>9.88</td>\n",
       "      <td>9.88</td>\n",
       "      <td>1.19</td>\n",
       "      <td>0.50</td>\n",
       "      <td>F6V</td>\n",
       "      <td>0.10</td>\n",
       "      <td>19.62</td>\n",
       "      <td>0</td>\n",
       "    </tr>\n",
       "  </tbody>\n",
       "</table>\n",
       "<p>41750 rows × 9 columns</p>\n",
       "</div>"
      ],
      "text/plain": [
       "       Vmag    Plx  Plx_abs  e_plx   B-V      SpType  Distance (pc)  abs_Vmag  \\\n",
       "0      8.93   0.41     0.41   1.14  0.06         A0V           2.44     11.99   \n",
       "1      6.44   4.44     4.44   0.51  1.52    K3/K4III           0.23     14.68   \n",
       "2      8.77   4.39     4.39   1.16  1.31  K2IIICN...           0.23     16.98   \n",
       "3      8.28   5.35     5.35   1.23  1.17       K1III           0.19     16.92   \n",
       "4      8.26   9.22     9.22   1.00  0.44         F3V           0.11     18.08   \n",
       "...     ...    ...      ...    ...   ...         ...            ...       ...   \n",
       "41745  6.22  12.07    12.07   0.56  0.19         A5V           0.08     16.63   \n",
       "41746  8.18   3.43     3.43   0.65  0.07    B9.5IV/V           0.29     15.86   \n",
       "41747  8.91  10.52    10.52   0.79  0.70         G3V           0.10     19.02   \n",
       "41748  6.70   2.95     2.95   0.56  1.46    K3/K4III           0.34     14.05   \n",
       "41749  9.65   9.88     9.88   1.19  0.50         F6V           0.10     19.62   \n",
       "\n",
       "       Target  \n",
       "0           0  \n",
       "1           1  \n",
       "2           1  \n",
       "3           1  \n",
       "4           0  \n",
       "...       ...  \n",
       "41745       0  \n",
       "41746       1  \n",
       "41747       0  \n",
       "41748       1  \n",
       "41749       0  \n",
       "\n",
       "[41750 rows x 9 columns]"
      ]
     },
     "execution_count": 2,
     "metadata": {},
     "output_type": "execute_result"
    }
   ],
   "source": [
    "#Reading in the preprocessed data\n",
    "\n",
    "df = pd.read_csv('Star_processed.csv')\n",
    "df"
   ]
  },
  {
   "attachments": {
    "hr%20diagram.jpg": {
     "image/jpeg": "[encoded data removed]"
    }
   },
   "cell_type": "markdown",
   "id": "e94561ea",
   "metadata": {},
   "source": [
    "According to the HR-diagram, the main parameters affecting the luminosity class (dwarf or giant) are the B-V colour and the absolute magnitude. So, making a selection of only the parameters needed.\n",
    "![hr%20diagram.jpg](attachment:hr%20diagram.jpg)"
   ]
  },
  {
   "cell_type": "code",
   "execution_count": 3,
   "id": "80c8f470",
   "metadata": {
    "ExecuteTime": {
     "end_time": "2022-11-30T12:06:51.710196Z",
     "start_time": "2022-11-30T12:06:51.686541Z"
    }
   },
   "outputs": [
    {
     "data": {
      "text/html": [
       "<div>\n",
       "<style scoped>\n",
       "    .dataframe tbody tr th:only-of-type {\n",
       "        vertical-align: middle;\n",
       "    }\n",
       "\n",
       "    .dataframe tbody tr th {\n",
       "        vertical-align: top;\n",
       "    }\n",
       "\n",
       "    .dataframe thead th {\n",
       "        text-align: right;\n",
       "    }\n",
       "</style>\n",
       "<table border=\"1\" class=\"dataframe\">\n",
       "  <thead>\n",
       "    <tr style=\"text-align: right;\">\n",
       "      <th></th>\n",
       "      <th>B-V</th>\n",
       "      <th>abs_Vmag</th>\n",
       "      <th>Target</th>\n",
       "    </tr>\n",
       "  </thead>\n",
       "  <tbody>\n",
       "    <tr>\n",
       "      <th>0</th>\n",
       "      <td>0.06</td>\n",
       "      <td>11.99</td>\n",
       "      <td>0</td>\n",
       "    </tr>\n",
       "    <tr>\n",
       "      <th>1</th>\n",
       "      <td>1.52</td>\n",
       "      <td>14.68</td>\n",
       "      <td>1</td>\n",
       "    </tr>\n",
       "    <tr>\n",
       "      <th>2</th>\n",
       "      <td>1.31</td>\n",
       "      <td>16.98</td>\n",
       "      <td>1</td>\n",
       "    </tr>\n",
       "    <tr>\n",
       "      <th>3</th>\n",
       "      <td>1.17</td>\n",
       "      <td>16.92</td>\n",
       "      <td>1</td>\n",
       "    </tr>\n",
       "    <tr>\n",
       "      <th>4</th>\n",
       "      <td>0.44</td>\n",
       "      <td>18.08</td>\n",
       "      <td>0</td>\n",
       "    </tr>\n",
       "    <tr>\n",
       "      <th>...</th>\n",
       "      <td>...</td>\n",
       "      <td>...</td>\n",
       "      <td>...</td>\n",
       "    </tr>\n",
       "    <tr>\n",
       "      <th>41745</th>\n",
       "      <td>0.19</td>\n",
       "      <td>16.63</td>\n",
       "      <td>0</td>\n",
       "    </tr>\n",
       "    <tr>\n",
       "      <th>41746</th>\n",
       "      <td>0.07</td>\n",
       "      <td>15.86</td>\n",
       "      <td>1</td>\n",
       "    </tr>\n",
       "    <tr>\n",
       "      <th>41747</th>\n",
       "      <td>0.70</td>\n",
       "      <td>19.02</td>\n",
       "      <td>0</td>\n",
       "    </tr>\n",
       "    <tr>\n",
       "      <th>41748</th>\n",
       "      <td>1.46</td>\n",
       "      <td>14.05</td>\n",
       "      <td>1</td>\n",
       "    </tr>\n",
       "    <tr>\n",
       "      <th>41749</th>\n",
       "      <td>0.50</td>\n",
       "      <td>19.62</td>\n",
       "      <td>0</td>\n",
       "    </tr>\n",
       "  </tbody>\n",
       "</table>\n",
       "<p>41750 rows × 3 columns</p>\n",
       "</div>"
      ],
      "text/plain": [
       "        B-V  abs_Vmag  Target\n",
       "0      0.06     11.99       0\n",
       "1      1.52     14.68       1\n",
       "2      1.31     16.98       1\n",
       "3      1.17     16.92       1\n",
       "4      0.44     18.08       0\n",
       "...     ...       ...     ...\n",
       "41745  0.19     16.63       0\n",
       "41746  0.07     15.86       1\n",
       "41747  0.70     19.02       0\n",
       "41748  1.46     14.05       1\n",
       "41749  0.50     19.62       0\n",
       "\n",
       "[41750 rows x 3 columns]"
      ]
     },
     "execution_count": 3,
     "metadata": {},
     "output_type": "execute_result"
    }
   ],
   "source": [
    "#Necessary columns only\n",
    "\n",
    "df_new = df[['B-V','abs_Vmag','Target']]\n",
    "df_new "
   ]
  },
  {
   "cell_type": "markdown",
   "id": "2a18e17e",
   "metadata": {},
   "source": [
    "### Standardising"
   ]
  },
  {
   "cell_type": "markdown",
   "id": "0e44f1ff",
   "metadata": {},
   "source": [
    "Splitting into training and testing data of 80% and 20% respectively.\n",
    "The star's class is not dependent on its distance but rather on mass, so in this case using colour and absolute luminosity as absolute mass is hard to acquire. The colour and luminosity depend on mass."
   ]
  },
  {
   "cell_type": "code",
   "execution_count": 4,
   "id": "55b26061",
   "metadata": {
    "ExecuteTime": {
     "end_time": "2022-11-30T12:06:56.390644Z",
     "start_time": "2022-11-30T12:06:56.369744Z"
    }
   },
   "outputs": [],
   "source": [
    "#Random state = 42 to get the same sets across different executions\n",
    "\n",
    "X = df_new.iloc[:, 0:2] #Output would be dataframe, two columns of colour and magnitude\n",
    "\n",
    "y = df_new.iloc[:, -1] #Output would be more like an array\n",
    "\n",
    "from sklearn.model_selection import train_test_split #Importing the data splitting module\n",
    "\n",
    "X_train, X_test, y_train, y_test = train_test_split(X, y, test_size= 0.2, random_state = 42) #Splitting the data"
   ]
  },
  {
   "cell_type": "code",
   "execution_count": 5,
   "id": "9d8fc41c",
   "metadata": {
    "ExecuteTime": {
     "end_time": "2022-11-30T12:07:01.432695Z",
     "start_time": "2022-11-30T12:07:01.414416Z"
    }
   },
   "outputs": [
    {
     "name": "stdout",
     "output_type": "stream",
     "text": [
      "(33400, 2)\n",
      "(8350, 2)\n",
      "(33400,)\n",
      "(8350,)\n"
     ]
    }
   ],
   "source": [
    "#Checking that the data is split correctly. It is as expected\n",
    "\n",
    "print(X_train.shape) #Should be 80% of the data with the 2 columns of colour and magnitude\n",
    "print(X_test.shape) #Should be 80% of the data containing only the target feature\n",
    "print(y_train.shape) #Should be 20% of the data containing the 2 columns of colour and magnitude\n",
    "print(y_test.shape) #Should be 20% of the data containing only the target feature"
   ]
  },
  {
   "cell_type": "code",
   "execution_count": 6,
   "id": "6d4fabfb",
   "metadata": {
    "ExecuteTime": {
     "end_time": "2022-11-30T12:07:05.752461Z",
     "start_time": "2022-11-30T12:07:05.643741Z"
    }
   },
   "outputs": [
    {
     "data": {
      "image/png": "[encoded data removed]",
      "text/plain": [
       "<Figure size 432x288 with 1 Axes>"
      ]
     },
     "metadata": {
      "needs_background": "light"
     },
     "output_type": "display_data"
    }
   ],
   "source": [
    "plt.hist(X_test); #Looking how the different features' values are distributed in different scales, so need to standardise"
   ]
  },
  {
   "cell_type": "code",
   "execution_count": 7,
   "id": "bf97d3de",
   "metadata": {
    "ExecuteTime": {
     "end_time": "2022-11-30T12:07:09.601612Z",
     "start_time": "2022-11-30T12:07:09.590697Z"
    }
   },
   "outputs": [],
   "source": [
    "#Creating a standardscaler object and applying it to the data fields used in the modeling\n",
    "\n",
    "sc_X = StandardScaler() #standardscaler \n",
    "sc_X.fit(X_train) #applying the standard scaler to the training data where there is no target feature\n",
    "X_train = sc_X.transform(X_train) #transforming the training data without the target feature\n",
    "\n",
    "X_test = sc_X.transform(X_test) #transforming the testing data without the target feature"
   ]
  },
  {
   "cell_type": "code",
   "execution_count": 8,
   "id": "0c5c92b4",
   "metadata": {
    "ExecuteTime": {
     "end_time": "2022-11-30T12:07:12.692226Z",
     "start_time": "2022-11-30T12:07:12.608207Z"
    }
   },
   "outputs": [
    {
     "data": {
      "image/png": "[encoded data removed]",
      "text/plain": [
       "<Figure size 432x288 with 1 Axes>"
      ]
     },
     "metadata": {
      "needs_background": "light"
     },
     "output_type": "display_data"
    }
   ],
   "source": [
    "# Standardised data\n",
    "plt.hist(X_test);"
   ]
  },
  {
   "cell_type": "markdown",
   "id": "29bcc0ff",
   "metadata": {},
   "source": [
    "The data has been standardised."
   ]
  },
  {
   "cell_type": "markdown",
   "id": "b73a8760",
   "metadata": {},
   "source": [
    "## Modeling KNN"
   ]
  },
  {
   "cell_type": "markdown",
   "id": "5091e436",
   "metadata": {},
   "source": [
    "Choosing to try out this model as, according to the HR-diagram, giants and dwarfs clutter in different areas of the diagram. So predictions can be done by looking at what type of datapoints are near in the specific area."
   ]
  },
  {
   "cell_type": "code",
   "execution_count": 9,
   "id": "d594a554",
   "metadata": {
    "ExecuteTime": {
     "end_time": "2022-11-30T12:07:15.235392Z",
     "start_time": "2022-11-30T12:07:15.214266Z"
    },
    "scrolled": false
   },
   "outputs": [
    {
     "data": {
      "text/plain": [
       "91.37833441248533"
      ]
     },
     "execution_count": 9,
     "metadata": {},
     "output_type": "execute_result"
    }
   ],
   "source": [
    "# Calculate k. Number of neighbours to be used in the ML is the square root of the length of the testing data\n",
    "import math\n",
    "math.sqrt(len(y_test))"
   ]
  },
  {
   "cell_type": "markdown",
   "id": "97fcb0b7",
   "metadata": {},
   "source": [
    "91 is odd number so can use that."
   ]
  },
  {
   "cell_type": "code",
   "execution_count": 10,
   "id": "b82a0ed8",
   "metadata": {
    "ExecuteTime": {
     "end_time": "2022-11-30T12:07:18.278442Z",
     "start_time": "2022-11-30T12:07:18.248512Z"
    }
   },
   "outputs": [
    {
     "data": {
      "text/html": [
       "<style>#sk-container-id-1 {color: black;background-color: white;}#sk-container-id-1 pre{padding: 0;}#sk-container-id-1 div.sk-toggleable {background-color: white;}#sk-container-id-1 label.sk-toggleable__label {cursor: pointer;display: block;width: 100%;margin-bottom: 0;padding: 0.3em;box-sizing: border-box;text-align: center;}#sk-container-id-1 label.sk-toggleable__label-arrow:before {content: \"▸\";float: left;margin-right: 0.25em;color: #696969;}#sk-container-id-1 label.sk-toggleable__label-arrow:hover:before {color: black;}#sk-container-id-1 div.sk-estimator:hover label.sk-toggleable__label-arrow:before {color: black;}#sk-container-id-1 div.sk-toggleable__content {max-height: 0;max-width: 0;overflow: hidden;text-align: left;background-color: #f0f8ff;}#sk-container-id-1 div.sk-toggleable__content pre {margin: 0.2em;color: black;border-radius: 0.25em;background-color: #f0f8ff;}#sk-container-id-1 input.sk-toggleable__control:checked~div.sk-toggleable__content {max-height: 200px;max-width: 100%;overflow: auto;}#sk-container-id-1 input.sk-toggleable__control:checked~label.sk-toggleable__label-arrow:before {content: \"▾\";}#sk-container-id-1 div.sk-estimator input.sk-toggleable__control:checked~label.sk-toggleable__label {background-color: #d4ebff;}#sk-container-id-1 div.sk-label input.sk-toggleable__control:checked~label.sk-toggleable__label {background-color: #d4ebff;}#sk-container-id-1 input.sk-hidden--visually {border: 0;clip: rect(1px 1px 1px 1px);clip: rect(1px, 1px, 1px, 1px);height: 1px;margin: -1px;overflow: hidden;padding: 0;position: absolute;width: 1px;}#sk-container-id-1 div.sk-estimator {font-family: monospace;background-color: #f0f8ff;border: 1px dotted black;border-radius: 0.25em;box-sizing: border-box;margin-bottom: 0.5em;}#sk-container-id-1 div.sk-estimator:hover {background-color: #d4ebff;}#sk-container-id-1 div.sk-parallel-item::after {content: \"\";width: 100%;border-bottom: 1px solid gray;flex-grow: 1;}#sk-container-id-1 div.sk-label:hover label.sk-toggleable__label {background-color: #d4ebff;}#sk-container-id-1 div.sk-serial::before {content: \"\";position: absolute;border-left: 1px solid gray;box-sizing: border-box;top: 0;bottom: 0;left: 50%;z-index: 0;}#sk-container-id-1 div.sk-serial {display: flex;flex-direction: column;align-items: center;background-color: white;padding-right: 0.2em;padding-left: 0.2em;position: relative;}#sk-container-id-1 div.sk-item {position: relative;z-index: 1;}#sk-container-id-1 div.sk-parallel {display: flex;align-items: stretch;justify-content: center;background-color: white;position: relative;}#sk-container-id-1 div.sk-item::before, #sk-container-id-1 div.sk-parallel-item::before {content: \"\";position: absolute;border-left: 1px solid gray;box-sizing: border-box;top: 0;bottom: 0;left: 50%;z-index: -1;}#sk-container-id-1 div.sk-parallel-item {display: flex;flex-direction: column;z-index: 1;position: relative;background-color: white;}#sk-container-id-1 div.sk-parallel-item:first-child::after {align-self: flex-end;width: 50%;}#sk-container-id-1 div.sk-parallel-item:last-child::after {align-self: flex-start;width: 50%;}#sk-container-id-1 div.sk-parallel-item:only-child::after {width: 0;}#sk-container-id-1 div.sk-dashed-wrapped {border: 1px dashed gray;margin: 0 0.4em 0.5em 0.4em;box-sizing: border-box;padding-bottom: 0.4em;background-color: white;}#sk-container-id-1 div.sk-label label {font-family: monospace;font-weight: bold;display: inline-block;line-height: 1.2em;}#sk-container-id-1 div.sk-label-container {text-align: center;}#sk-container-id-1 div.sk-container {/* jupyter's `normalize.less` sets `[hidden] { display: none; }` but bootstrap.min.css set `[hidden] { display: none !important; }` so we also need the `!important` here to be able to override the default hidden behavior on the sphinx rendered scikit-learn.org. See: https://github.com/scikit-learn/scikit-learn/issues/21755 */display: inline-block !important;position: relative;}#sk-container-id-1 div.sk-text-repr-fallback {display: none;}</style><div id=\"sk-container-id-1\" class=\"sk-top-container\"><div class=\"sk-text-repr-fallback\"><pre>KNeighborsClassifier(metric=&#x27;euclidean&#x27;, n_neighbors=91)</pre><b>In a Jupyter environment, please rerun this cell to show the HTML representation or trust the notebook. <br />On GitHub, the HTML representation is unable to render, please try loading this page with nbviewer.org.</b></div><div class=\"sk-container\" hidden><div class=\"sk-item\"><div class=\"sk-estimator sk-toggleable\"><input class=\"sk-toggleable__control sk-hidden--visually\" id=\"sk-estimator-id-1\" type=\"checkbox\" checked><label for=\"sk-estimator-id-1\" class=\"sk-toggleable__label sk-toggleable__label-arrow\">KNeighborsClassifier</label><div class=\"sk-toggleable__content\"><pre>KNeighborsClassifier(metric=&#x27;euclidean&#x27;, n_neighbors=91)</pre></div></div></div></div></div>"
      ],
      "text/plain": [
       "KNeighborsClassifier(metric='euclidean', n_neighbors=91)"
      ]
     },
     "execution_count": 10,
     "metadata": {},
     "output_type": "execute_result"
    }
   ],
   "source": [
    "# Create KNN Object\n",
    "\n",
    "classifier = KNeighborsClassifier(n_neighbors=91, p=2, metric= 'euclidean') #91 neigbours, 2 target variables to predict\n",
    "\n",
    "classifier\n",
    "\n",
    "# Train model\n",
    "classifier.fit(X_train, y_train)"
   ]
  },
  {
   "cell_type": "markdown",
   "id": "00ae3852",
   "metadata": {},
   "source": [
    "### Collecting KNN predictions and evaluating"
   ]
  },
  {
   "cell_type": "code",
   "execution_count": 11,
   "id": "67594d13",
   "metadata": {
    "ExecuteTime": {
     "end_time": "2022-11-30T12:07:21.812806Z",
     "start_time": "2022-11-30T12:07:21.617029Z"
    }
   },
   "outputs": [
    {
     "data": {
      "text/plain": [
       "(array([1, 0, 0, 1, 0, 1, 1, 1, 0, 0], dtype=int64),\n",
       " 23641    1\n",
       " 33447    0\n",
       " 18399    0\n",
       " 40725    1\n",
       " 5920     0\n",
       " 12705    1\n",
       " 36110    0\n",
       " 24919    1\n",
       " 37683    0\n",
       " 40311    0\n",
       " Name: Target, dtype: int64)"
      ]
     },
     "execution_count": 11,
     "metadata": {},
     "output_type": "execute_result"
    }
   ],
   "source": [
    "#Collecting the predictions by using the trained classifier object on the X_testing data\n",
    "y_pred = classifier.predict(X_test)\n",
    "#Comparing the predictions to the real values. At first glance, seems to have done well.\n",
    "y_pred[0:10], y_test[0:10]"
   ]
  },
  {
   "cell_type": "code",
   "execution_count": 12,
   "id": "aa72810e",
   "metadata": {
    "ExecuteTime": {
     "end_time": "2022-11-30T12:07:24.432173Z",
     "start_time": "2022-11-30T12:07:24.410229Z"
    }
   },
   "outputs": [
    {
     "data": {
      "text/plain": [
       "array([[3763,  397],\n",
       "       [ 982, 3208]], dtype=int64)"
      ]
     },
     "execution_count": 12,
     "metadata": {},
     "output_type": "execute_result"
    }
   ],
   "source": [
    "# Confusion Matrix\n",
    "confusion_matrix(y_test, y_pred)"
   ]
  },
  {
   "cell_type": "markdown",
   "id": "5b8d649a",
   "metadata": {},
   "source": [
    "So the KNN model put 982 giants under the dwarfs' section and 397 dwarfs in the giants' section."
   ]
  },
  {
   "cell_type": "code",
   "execution_count": 13,
   "id": "e22ca1fd",
   "metadata": {
    "ExecuteTime": {
     "end_time": "2022-11-30T12:07:27.114148Z",
     "start_time": "2022-11-30T12:07:27.108359Z"
    }
   },
   "outputs": [],
   "source": [
    "#Importing recall and precision score as well to see the quality of the data.\n",
    "from sklearn.metrics import recall_score\n",
    "from sklearn.metrics import precision_score"
   ]
  },
  {
   "cell_type": "code",
   "execution_count": 14,
   "id": "10444b37",
   "metadata": {
    "ExecuteTime": {
     "end_time": "2022-11-30T12:07:30.755741Z",
     "start_time": "2022-11-30T12:07:30.737258Z"
    }
   },
   "outputs": [
    {
     "name": "stdout",
     "output_type": "stream",
     "text": [
      "F1: 0.8230917254650416\n",
      "Accuracy: 0.8348502994011976\n",
      "Recall: 0.7656324582338903\n",
      "Precision: 0.889875173370319\n"
     ]
    }
   ],
   "source": [
    "# scores\n",
    "\n",
    "#F1 is a data quality score, combination of recall and precision which were displayed here anyway\n",
    "print('F1:',f1_score(y_test, y_pred))\n",
    "#Accuracy shows how many records in the testing data the model got right\n",
    "print('Accuracy:',accuracy_score(y_test, y_pred))\n",
    "#How many relevant records are retrieved:\n",
    "print('Recall:',recall_score(y_test, y_pred))\n",
    "#How many retrieved records are relevant:\n",
    "print('Precision:',precision_score(y_test, y_pred))"
   ]
  },
  {
   "cell_type": "markdown",
   "id": "323c7c3f",
   "metadata": {},
   "source": [
    "FIXED NOW [According to the evaluations, the model performed with a 100% accuracy and considering there were 8350 datapoints to test on, it cannot be the case of not enough data. Nevertheless, trying out another method. Using only the absolute magnitude. This might be the case of overfitting and as there is definitely enough data to train on (thousands) then removing a feature instead.]"
   ]
  },
  {
   "cell_type": "markdown",
   "id": "868c571b",
   "metadata": {},
   "source": [
    "UPDATE on the above: The reason for the 100% accuracy before was because, by accident, the target feature was included in the features which were supposed to help predict, so it already had all the answers and therefore gave them. Luckily, not an overfitting problem and this time have a much more reasonable of 83% accuracy score. Fixed now!"
   ]
  },
  {
   "cell_type": "markdown",
   "id": "3ef8a5ae",
   "metadata": {},
   "source": [
    "### Calculating if there is a better k-value/number of neighbours to use"
   ]
  },
  {
   "cell_type": "code",
   "execution_count": 15,
   "id": "9c35bcba",
   "metadata": {
    "ExecuteTime": {
     "end_time": "2022-11-30T12:08:08.140430Z",
     "start_time": "2022-11-30T12:07:37.263243Z"
    }
   },
   "outputs": [],
   "source": [
    "error_rate = [] #Finding how high is the error rate of the model choosing the wrong target value. Using a for loop\n",
    "\n",
    "for i in range(1,150): #range of 150 neighbours\n",
    "    knn = KNeighborsClassifier(n_neighbors = i) #applying different number of neighbours to the classifier via 'i'\n",
    "    knn.fit(X_train, y_train) #fitting the classifier with different number of neighbours to the training data\n",
    "    pred_i = knn.predict(X_test) #collecting the different predictions\n",
    "    error_rate.append(np.mean(pred_i != y_test)) #Collecting the error rate by finding the mean of number of\n",
    "    # predictions not equal the target result for every number of neighbours"
   ]
  },
  {
   "cell_type": "code",
   "execution_count": 16,
   "id": "480be7c6",
   "metadata": {
    "ExecuteTime": {
     "end_time": "2022-11-30T12:08:18.192558Z",
     "start_time": "2022-11-30T12:08:18.164071Z"
    },
    "collapsed": true
   },
   "outputs": [
    {
     "name": "stdout",
     "output_type": "stream",
     "text": [
      "1 0.22419161676646707\n",
      "2 0.19904191616766467\n",
      "3 0.19652694610778443\n",
      "4 0.18275449101796407\n",
      "5 0.1852694610778443\n",
      "6 0.17808383233532935\n",
      "7 0.1821556886227545\n",
      "8 0.1777245508982036\n",
      "9 0.18083832335329342\n",
      "10 0.17676646706586827\n",
      "11 0.1770059880239521\n",
      "12 0.17317365269461077\n",
      "13 0.17568862275449101\n",
      "14 0.17233532934131737\n",
      "15 0.17437125748502993\n",
      "16 0.17233532934131737\n",
      "17 0.1740119760479042\n",
      "18 0.17125748502994012\n",
      "19 0.17341317365269462\n",
      "20 0.1711377245508982\n",
      "21 0.16994011976047904\n",
      "22 0.1688622754491018\n",
      "23 0.16910179640718562\n",
      "24 0.1695808383233533\n",
      "25 0.17017964071856287\n",
      "26 0.16778443113772454\n",
      "27 0.1681437125748503\n",
      "28 0.1680239520958084\n",
      "29 0.16790419161676648\n",
      "30 0.16718562874251497\n",
      "31 0.1689820359281437\n",
      "32 0.1667065868263473\n",
      "33 0.1680239520958084\n",
      "34 0.1674251497005988\n",
      "35 0.1688622754491018\n",
      "36 0.1680239520958084\n",
      "37 0.1680239520958084\n",
      "38 0.16850299401197605\n",
      "39 0.16862275449101796\n",
      "40 0.1689820359281437\n",
      "41 0.16826347305389222\n",
      "42 0.16850299401197605\n",
      "43 0.16778443113772454\n",
      "44 0.16850299401197605\n",
      "45 0.16730538922155688\n",
      "46 0.1680239520958084\n",
      "47 0.16706586826347306\n",
      "48 0.1680239520958084\n",
      "49 0.16634730538922154\n",
      "50 0.16550898203592815\n",
      "51 0.16730538922155688\n",
      "52 0.1658682634730539\n",
      "53 0.1664670658682635\n",
      "54 0.16622754491017963\n",
      "55 0.16526946107784432\n",
      "56 0.1667065868263473\n",
      "57 0.1659880239520958\n",
      "58 0.16634730538922154\n",
      "59 0.16694610778443114\n",
      "60 0.1665868263473054\n",
      "61 0.16718562874251497\n",
      "62 0.16574850299401198\n",
      "63 0.1665868263473054\n",
      "64 0.16634730538922154\n",
      "65 0.1658682634730539\n",
      "66 0.16502994011976047\n",
      "67 0.1651497005988024\n",
      "68 0.16467065868263472\n",
      "69 0.16562874251497006\n",
      "70 0.16550898203592815\n",
      "71 0.16502994011976047\n",
      "72 0.16550898203592815\n",
      "73 0.16550898203592815\n",
      "74 0.1659880239520958\n",
      "75 0.16502994011976047\n",
      "76 0.1659880239520958\n",
      "77 0.16694610778443114\n",
      "78 0.16706586826347306\n",
      "79 0.16694610778443114\n",
      "80 0.1674251497005988\n",
      "81 0.16706586826347306\n",
      "82 0.16706586826347306\n",
      "83 0.16562874251497006\n",
      "84 0.16634730538922154\n",
      "85 0.16574850299401198\n",
      "86 0.16491017964071855\n",
      "87 0.16610778443113772\n",
      "88 0.16562874251497006\n",
      "89 0.1658682634730539\n",
      "90 0.1651497005988024\n",
      "91 0.1651497005988024\n",
      "92 0.1651497005988024\n",
      "93 0.16550898203592815\n",
      "94 0.16479041916167664\n",
      "95 0.16550898203592815\n",
      "96 0.16574850299401198\n",
      "97 0.16467065868263472\n",
      "98 0.16550898203592815\n",
      "99 0.16526946107784432\n",
      "100 0.1651497005988024\n",
      "101 0.16479041916167664\n",
      "102 0.16526946107784432\n",
      "103 0.16562874251497006\n",
      "104 0.16610778443113772\n",
      "105 0.16622754491017963\n",
      "106 0.16622754491017963\n",
      "107 0.1659880239520958\n",
      "108 0.16526946107784432\n",
      "109 0.16634730538922154\n",
      "110 0.16694610778443114\n",
      "111 0.16682634730538923\n",
      "112 0.1664670658682635\n",
      "113 0.1658682634730539\n",
      "114 0.16526946107784432\n",
      "115 0.16622754491017963\n",
      "116 0.1667065868263473\n",
      "117 0.1658682634730539\n",
      "118 0.16610778443113772\n",
      "119 0.16562874251497006\n",
      "120 0.16610778443113772\n",
      "121 0.16682634730538923\n",
      "122 0.16694610778443114\n",
      "123 0.16718562874251497\n",
      "124 0.1667065868263473\n",
      "125 0.1665868263473054\n",
      "126 0.1658682634730539\n",
      "127 0.16622754491017963\n",
      "128 0.1665868263473054\n",
      "129 0.1665868263473054\n",
      "130 0.1659880239520958\n",
      "131 0.1658682634730539\n",
      "132 0.1651497005988024\n",
      "133 0.16562874251497006\n",
      "134 0.16491017964071855\n",
      "135 0.16502994011976047\n",
      "136 0.16479041916167664\n",
      "137 0.16538922155688623\n",
      "138 0.16407185628742516\n",
      "139 0.16538922155688623\n",
      "140 0.16502994011976047\n",
      "141 0.16550898203592815\n",
      "142 0.16562874251497006\n",
      "143 0.1658682634730539\n",
      "144 0.16526946107784432\n",
      "145 0.16550898203592815\n",
      "146 0.16467065868263472\n",
      "147 0.16538922155688623\n",
      "148 0.16479041916167664\n",
      "149 0.16550898203592815\n"
     ]
    }
   ],
   "source": [
    "for index, error in enumerate(error_rate): #Displaying the number of neighbours along with its error rate\n",
    "    print(index+1, error) #showing them"
   ]
  },
  {
   "cell_type": "code",
   "execution_count": 17,
   "id": "61c593d8",
   "metadata": {
    "ExecuteTime": {
     "end_time": "2022-11-30T12:08:22.796402Z",
     "start_time": "2022-11-30T12:08:22.702905Z"
    }
   },
   "outputs": [
    {
     "data": {
      "text/plain": [
       "Text(0, 0.5, 'Error Rate')"
      ]
     },
     "execution_count": 17,
     "metadata": {},
     "output_type": "execute_result"
    },
    {
     "data": {
      "image/png": "[encoded data removed]",
      "text/plain": [
       "<Figure size 720x504 with 1 Axes>"
      ]
     },
     "metadata": {
      "needs_background": "light"
     },
     "output_type": "display_data"
    }
   ],
   "source": [
    "plt.figure(figsize=(10,7)) #setting the figure size\n",
    "#plotting the plot in the same range as the number of neighbours used before and using the error rate data\n",
    "plt.plot(range(1,150), error_rate, color='blue', linestyle='dashed', marker='o', markerfacecolor='red', markersize=10)\n",
    "#Setting the titles and labels\n",
    "plt.title('Error Rate vs K Value', fontsize=20)\n",
    "plt.xlabel('K', fontsize=14)\n",
    "plt.ylabel('Error Rate', fontsize=14)"
   ]
  },
  {
   "cell_type": "markdown",
   "id": "3d681a78",
   "metadata": {},
   "source": [
    "Choosing another K value will not make much of a difference as the error rate stabilises around 50 neighbours and then has only minor fluctuations."
   ]
  },
  {
   "cell_type": "markdown",
   "id": "942e7c58",
   "metadata": {},
   "source": [
    "### Plotting the KNN predictions along with real values"
   ]
  },
  {
   "cell_type": "markdown",
   "id": "c41158c9",
   "metadata": {},
   "source": [
    "The example of the KNN graph was taken from here: https://ogrisel.github.io/scikit-learn.org/sklearn-tutorial/auto_examples/tutorial/plot_knn_iris.html"
   ]
  },
  {
   "cell_type": "code",
   "execution_count": 18,
   "id": "f404db2c",
   "metadata": {
    "ExecuteTime": {
     "end_time": "2022-11-30T12:08:39.042153Z",
     "start_time": "2022-11-30T12:08:38.857254Z"
    }
   },
   "outputs": [
    {
     "name": "stderr",
     "output_type": "stream",
     "text": [
      "*c* argument looks like a single numeric RGB or RGBA sequence, which should be avoided as value-mapping will have precedence in case its length matches with *x* & *y*.  Please use the *color* keyword-argument or provide a 2D array with a single row if you intend to specify the same RGB or RGBA value for all points.\n",
      "*c* argument looks like a single numeric RGB or RGBA sequence, which should be avoided as value-mapping will have precedence in case its length matches with *x* & *y*.  Please use the *color* keyword-argument or provide a 2D array with a single row if you intend to specify the same RGB or RGBA value for all points.\n"
     ]
    },
    {
     "data": {
      "text/plain": [
       "<matplotlib.legend.Legend at 0x22c7bfc2100>"
      ]
     },
     "execution_count": 18,
     "metadata": {},
     "output_type": "execute_result"
    },
    {
     "data": {
      "image/png": "[encoded data removed]",
      "text/plain": [
       "<Figure size 720x504 with 1 Axes>"
      ]
     },
     "metadata": {
      "needs_background": "light"
     },
     "output_type": "display_data"
    }
   ],
   "source": [
    "# Plot the decision boundary. For that, we will asign a color to each\n",
    "# point in the mesh [x_min, m_max]x[y_min, y_max].\n",
    "#Imorting the colour map\n",
    "from matplotlib.colors import ListedColormap\n",
    "\n",
    "h=0.5 #step size in the mesh\n",
    "#Setting the min and max for x (star colour) and y(absolute magnitude) axis with the testing data\n",
    "x_min, x_max = X_test[:,0].min() - 1, X_test[:,0].max() + 1\n",
    "y_min, y_max = X_test[:,1].min() - 1, X_test[:,1].max() + 1\n",
    "#Making the grid with the min and max values and naming the axes to xx and yy with step size of 0.5\n",
    "xx, yy = np.meshgrid(np.arange(x_min, x_max, h), np.arange(y_min, y_max, h))\n",
    "#Making the values into 1d array and then applying .c_ to make present the values in a 2d columns\n",
    "Z = classifier.predict(np.c_[xx.ravel(), yy.ravel()])\n",
    "\n",
    "# Put the result into the colour plot\n",
    "Z = Z.reshape(xx.shape)\n",
    "plt.figure(1, figsize=(10, 7)) #setting the figure size\n",
    "plt.contourf(xx,yy, Z,alpha = h, cmap = ListedColormap(('red','blue'))) #plotting the contour of the predictions\n",
    "\n",
    "# Plot also the real values' points in the testing data\n",
    "for i, j in enumerate (np.unique(y_test)):\n",
    "    plt.scatter(X_test[y_test == j, 0], X_test[y_test == j, 1],c = ListedColormap(('red','blue'))(i), label = j)\n",
    "plt.xlabel('Colour B-V') #labeling the axis\n",
    "plt.ylabel('Absolute Magnitude')#labeling the axis\n",
    "plt.title('HR-Diagram with areas of prediction and real data points 0=dwarf, 1=giant')\n",
    "\n",
    "\n",
    "plt.xlim(xx.min(), xx.max()) #the star colour goes from min to max\n",
    "plt.ylim(yy.max(), yy.min()) #Flipping the magnitude axis as negative value is higher magnitude\n",
    "plt.legend() #displaying the legend as well\n"
   ]
  },
  {
   "cell_type": "markdown",
   "id": "976ff826",
   "metadata": {},
   "source": [
    "The graph displays \"boundaries\" because of the nature of the data. HR-diagram naturally has distinct regions of giants and dwarfs. Giants gather in the upper section of the diagram while dwarfs in the bottom. Some giants and dwarfs are in the unexpected regions and overlap with each other which is explained with the confusing labelling in the dataset. This can be examined in the future with more time."
   ]
  },
  {
   "cell_type": "markdown",
   "id": "8e023758",
   "metadata": {},
   "source": [
    "## Modeling Decision Trees"
   ]
  },
  {
   "cell_type": "markdown",
   "id": "738f1cad",
   "metadata": {},
   "source": [
    "Rather than looking at neighbouring data points, looking into specific values of star colour and absolute magnitude. In theory, if the luminosity class labelling in the data set was more clear (giant/dwarf) then with this model the predictions should be more accurate because it is looking at the actual values and making a decision based on that and not on the neighbours. Luminosity classes have distinct colour and absolute magnitude values so should produce a better model."
   ]
  },
  {
   "cell_type": "code",
   "execution_count": 19,
   "id": "b1709bcb",
   "metadata": {
    "ExecuteTime": {
     "end_time": "2022-11-30T12:08:52.487149Z",
     "start_time": "2022-11-30T12:08:52.475238Z"
    }
   },
   "outputs": [
    {
     "data": {
      "text/html": [
       "<style>#sk-container-id-2 {color: black;background-color: white;}#sk-container-id-2 pre{padding: 0;}#sk-container-id-2 div.sk-toggleable {background-color: white;}#sk-container-id-2 label.sk-toggleable__label {cursor: pointer;display: block;width: 100%;margin-bottom: 0;padding: 0.3em;box-sizing: border-box;text-align: center;}#sk-container-id-2 label.sk-toggleable__label-arrow:before {content: \"▸\";float: left;margin-right: 0.25em;color: #696969;}#sk-container-id-2 label.sk-toggleable__label-arrow:hover:before {color: black;}#sk-container-id-2 div.sk-estimator:hover label.sk-toggleable__label-arrow:before {color: black;}#sk-container-id-2 div.sk-toggleable__content {max-height: 0;max-width: 0;overflow: hidden;text-align: left;background-color: #f0f8ff;}#sk-container-id-2 div.sk-toggleable__content pre {margin: 0.2em;color: black;border-radius: 0.25em;background-color: #f0f8ff;}#sk-container-id-2 input.sk-toggleable__control:checked~div.sk-toggleable__content {max-height: 200px;max-width: 100%;overflow: auto;}#sk-container-id-2 input.sk-toggleable__control:checked~label.sk-toggleable__label-arrow:before {content: \"▾\";}#sk-container-id-2 div.sk-estimator input.sk-toggleable__control:checked~label.sk-toggleable__label {background-color: #d4ebff;}#sk-container-id-2 div.sk-label input.sk-toggleable__control:checked~label.sk-toggleable__label {background-color: #d4ebff;}#sk-container-id-2 input.sk-hidden--visually {border: 0;clip: rect(1px 1px 1px 1px);clip: rect(1px, 1px, 1px, 1px);height: 1px;margin: -1px;overflow: hidden;padding: 0;position: absolute;width: 1px;}#sk-container-id-2 div.sk-estimator {font-family: monospace;background-color: #f0f8ff;border: 1px dotted black;border-radius: 0.25em;box-sizing: border-box;margin-bottom: 0.5em;}#sk-container-id-2 div.sk-estimator:hover {background-color: #d4ebff;}#sk-container-id-2 div.sk-parallel-item::after {content: \"\";width: 100%;border-bottom: 1px solid gray;flex-grow: 1;}#sk-container-id-2 div.sk-label:hover label.sk-toggleable__label {background-color: #d4ebff;}#sk-container-id-2 div.sk-serial::before {content: \"\";position: absolute;border-left: 1px solid gray;box-sizing: border-box;top: 0;bottom: 0;left: 50%;z-index: 0;}#sk-container-id-2 div.sk-serial {display: flex;flex-direction: column;align-items: center;background-color: white;padding-right: 0.2em;padding-left: 0.2em;position: relative;}#sk-container-id-2 div.sk-item {position: relative;z-index: 1;}#sk-container-id-2 div.sk-parallel {display: flex;align-items: stretch;justify-content: center;background-color: white;position: relative;}#sk-container-id-2 div.sk-item::before, #sk-container-id-2 div.sk-parallel-item::before {content: \"\";position: absolute;border-left: 1px solid gray;box-sizing: border-box;top: 0;bottom: 0;left: 50%;z-index: -1;}#sk-container-id-2 div.sk-parallel-item {display: flex;flex-direction: column;z-index: 1;position: relative;background-color: white;}#sk-container-id-2 div.sk-parallel-item:first-child::after {align-self: flex-end;width: 50%;}#sk-container-id-2 div.sk-parallel-item:last-child::after {align-self: flex-start;width: 50%;}#sk-container-id-2 div.sk-parallel-item:only-child::after {width: 0;}#sk-container-id-2 div.sk-dashed-wrapped {border: 1px dashed gray;margin: 0 0.4em 0.5em 0.4em;box-sizing: border-box;padding-bottom: 0.4em;background-color: white;}#sk-container-id-2 div.sk-label label {font-family: monospace;font-weight: bold;display: inline-block;line-height: 1.2em;}#sk-container-id-2 div.sk-label-container {text-align: center;}#sk-container-id-2 div.sk-container {/* jupyter's `normalize.less` sets `[hidden] { display: none; }` but bootstrap.min.css set `[hidden] { display: none !important; }` so we also need the `!important` here to be able to override the default hidden behavior on the sphinx rendered scikit-learn.org. See: https://github.com/scikit-learn/scikit-learn/issues/21755 */display: inline-block !important;position: relative;}#sk-container-id-2 div.sk-text-repr-fallback {display: none;}</style><div id=\"sk-container-id-2\" class=\"sk-top-container\"><div class=\"sk-text-repr-fallback\"><pre>DecisionTreeClassifier()</pre><b>In a Jupyter environment, please rerun this cell to show the HTML representation or trust the notebook. <br />On GitHub, the HTML representation is unable to render, please try loading this page with nbviewer.org.</b></div><div class=\"sk-container\" hidden><div class=\"sk-item\"><div class=\"sk-estimator sk-toggleable\"><input class=\"sk-toggleable__control sk-hidden--visually\" id=\"sk-estimator-id-2\" type=\"checkbox\" checked><label for=\"sk-estimator-id-2\" class=\"sk-toggleable__label sk-toggleable__label-arrow\">DecisionTreeClassifier</label><div class=\"sk-toggleable__content\"><pre>DecisionTreeClassifier()</pre></div></div></div></div></div>"
      ],
      "text/plain": [
       "DecisionTreeClassifier()"
      ]
     },
     "execution_count": 19,
     "metadata": {},
     "output_type": "execute_result"
    }
   ],
   "source": [
    "#Create decisiontreeclassifier object\n",
    "dtree = DecisionTreeClassifier()\n",
    "dtree"
   ]
  },
  {
   "cell_type": "code",
   "execution_count": 20,
   "id": "63631723",
   "metadata": {
    "ExecuteTime": {
     "end_time": "2022-11-30T12:08:55.164925Z",
     "start_time": "2022-11-30T12:08:55.113248Z"
    }
   },
   "outputs": [
    {
     "data": {
      "text/html": [
       "<style>#sk-container-id-3 {color: black;background-color: white;}#sk-container-id-3 pre{padding: 0;}#sk-container-id-3 div.sk-toggleable {background-color: white;}#sk-container-id-3 label.sk-toggleable__label {cursor: pointer;display: block;width: 100%;margin-bottom: 0;padding: 0.3em;box-sizing: border-box;text-align: center;}#sk-container-id-3 label.sk-toggleable__label-arrow:before {content: \"▸\";float: left;margin-right: 0.25em;color: #696969;}#sk-container-id-3 label.sk-toggleable__label-arrow:hover:before {color: black;}#sk-container-id-3 div.sk-estimator:hover label.sk-toggleable__label-arrow:before {color: black;}#sk-container-id-3 div.sk-toggleable__content {max-height: 0;max-width: 0;overflow: hidden;text-align: left;background-color: #f0f8ff;}#sk-container-id-3 div.sk-toggleable__content pre {margin: 0.2em;color: black;border-radius: 0.25em;background-color: #f0f8ff;}#sk-container-id-3 input.sk-toggleable__control:checked~div.sk-toggleable__content {max-height: 200px;max-width: 100%;overflow: auto;}#sk-container-id-3 input.sk-toggleable__control:checked~label.sk-toggleable__label-arrow:before {content: \"▾\";}#sk-container-id-3 div.sk-estimator input.sk-toggleable__control:checked~label.sk-toggleable__label {background-color: #d4ebff;}#sk-container-id-3 div.sk-label input.sk-toggleable__control:checked~label.sk-toggleable__label {background-color: #d4ebff;}#sk-container-id-3 input.sk-hidden--visually {border: 0;clip: rect(1px 1px 1px 1px);clip: rect(1px, 1px, 1px, 1px);height: 1px;margin: -1px;overflow: hidden;padding: 0;position: absolute;width: 1px;}#sk-container-id-3 div.sk-estimator {font-family: monospace;background-color: #f0f8ff;border: 1px dotted black;border-radius: 0.25em;box-sizing: border-box;margin-bottom: 0.5em;}#sk-container-id-3 div.sk-estimator:hover {background-color: #d4ebff;}#sk-container-id-3 div.sk-parallel-item::after {content: \"\";width: 100%;border-bottom: 1px solid gray;flex-grow: 1;}#sk-container-id-3 div.sk-label:hover label.sk-toggleable__label {background-color: #d4ebff;}#sk-container-id-3 div.sk-serial::before {content: \"\";position: absolute;border-left: 1px solid gray;box-sizing: border-box;top: 0;bottom: 0;left: 50%;z-index: 0;}#sk-container-id-3 div.sk-serial {display: flex;flex-direction: column;align-items: center;background-color: white;padding-right: 0.2em;padding-left: 0.2em;position: relative;}#sk-container-id-3 div.sk-item {position: relative;z-index: 1;}#sk-container-id-3 div.sk-parallel {display: flex;align-items: stretch;justify-content: center;background-color: white;position: relative;}#sk-container-id-3 div.sk-item::before, #sk-container-id-3 div.sk-parallel-item::before {content: \"\";position: absolute;border-left: 1px solid gray;box-sizing: border-box;top: 0;bottom: 0;left: 50%;z-index: -1;}#sk-container-id-3 div.sk-parallel-item {display: flex;flex-direction: column;z-index: 1;position: relative;background-color: white;}#sk-container-id-3 div.sk-parallel-item:first-child::after {align-self: flex-end;width: 50%;}#sk-container-id-3 div.sk-parallel-item:last-child::after {align-self: flex-start;width: 50%;}#sk-container-id-3 div.sk-parallel-item:only-child::after {width: 0;}#sk-container-id-3 div.sk-dashed-wrapped {border: 1px dashed gray;margin: 0 0.4em 0.5em 0.4em;box-sizing: border-box;padding-bottom: 0.4em;background-color: white;}#sk-container-id-3 div.sk-label label {font-family: monospace;font-weight: bold;display: inline-block;line-height: 1.2em;}#sk-container-id-3 div.sk-label-container {text-align: center;}#sk-container-id-3 div.sk-container {/* jupyter's `normalize.less` sets `[hidden] { display: none; }` but bootstrap.min.css set `[hidden] { display: none !important; }` so we also need the `!important` here to be able to override the default hidden behavior on the sphinx rendered scikit-learn.org. See: https://github.com/scikit-learn/scikit-learn/issues/21755 */display: inline-block !important;position: relative;}#sk-container-id-3 div.sk-text-repr-fallback {display: none;}</style><div id=\"sk-container-id-3\" class=\"sk-top-container\"><div class=\"sk-text-repr-fallback\"><pre>DecisionTreeClassifier()</pre><b>In a Jupyter environment, please rerun this cell to show the HTML representation or trust the notebook. <br />On GitHub, the HTML representation is unable to render, please try loading this page with nbviewer.org.</b></div><div class=\"sk-container\" hidden><div class=\"sk-item\"><div class=\"sk-estimator sk-toggleable\"><input class=\"sk-toggleable__control sk-hidden--visually\" id=\"sk-estimator-id-3\" type=\"checkbox\" checked><label for=\"sk-estimator-id-3\" class=\"sk-toggleable__label sk-toggleable__label-arrow\">DecisionTreeClassifier</label><div class=\"sk-toggleable__content\"><pre>DecisionTreeClassifier()</pre></div></div></div></div></div>"
      ],
      "text/plain": [
       "DecisionTreeClassifier()"
      ]
     },
     "execution_count": 20,
     "metadata": {},
     "output_type": "execute_result"
    }
   ],
   "source": [
    "#X_train, X_test, y_train, y_test\n",
    "dtree.fit(X_train, y_train)"
   ]
  },
  {
   "cell_type": "markdown",
   "id": "2f35d731",
   "metadata": {},
   "source": [
    "### Predictions and Evaluation of the Trees"
   ]
  },
  {
   "cell_type": "code",
   "execution_count": 21,
   "id": "46ae8ff9",
   "metadata": {
    "ExecuteTime": {
     "end_time": "2022-11-30T12:08:57.419034Z",
     "start_time": "2022-11-30T12:08:57.412276Z"
    }
   },
   "outputs": [],
   "source": [
    "y_pred = dtree.predict(X_test) #Collecting predictions"
   ]
  },
  {
   "cell_type": "code",
   "execution_count": 22,
   "id": "9ed02811",
   "metadata": {
    "ExecuteTime": {
     "end_time": "2022-11-30T12:08:58.074532Z",
     "start_time": "2022-11-30T12:08:58.049829Z"
    }
   },
   "outputs": [
    {
     "name": "stdout",
     "output_type": "stream",
     "text": [
      "              precision    recall  f1-score   support\n",
      "\n",
      "           0       0.77      0.79      0.78      4160\n",
      "           1       0.79      0.77      0.78      4190\n",
      "\n",
      "    accuracy                           0.78      8350\n",
      "   macro avg       0.78      0.78      0.78      8350\n",
      "weighted avg       0.78      0.78      0.78      8350\n",
      "\n"
     ]
    }
   ],
   "source": [
    "print(classification_report(y_test, y_pred)) #Classification report"
   ]
  },
  {
   "cell_type": "code",
   "execution_count": 23,
   "id": "96255145",
   "metadata": {
    "ExecuteTime": {
     "end_time": "2022-11-30T12:09:00.660640Z",
     "start_time": "2022-11-30T12:09:00.635394Z"
    }
   },
   "outputs": [
    {
     "data": {
      "text/html": [
       "<div>\n",
       "<style scoped>\n",
       "    .dataframe tbody tr th:only-of-type {\n",
       "        vertical-align: middle;\n",
       "    }\n",
       "\n",
       "    .dataframe tbody tr th {\n",
       "        vertical-align: top;\n",
       "    }\n",
       "\n",
       "    .dataframe thead th {\n",
       "        text-align: right;\n",
       "    }\n",
       "</style>\n",
       "<table border=\"1\" class=\"dataframe\">\n",
       "  <thead>\n",
       "    <tr style=\"text-align: right;\">\n",
       "      <th>Predicted Class</th>\n",
       "      <th>0</th>\n",
       "      <th>1</th>\n",
       "    </tr>\n",
       "    <tr>\n",
       "      <th>Actual Class</th>\n",
       "      <th></th>\n",
       "      <th></th>\n",
       "    </tr>\n",
       "  </thead>\n",
       "  <tbody>\n",
       "    <tr>\n",
       "      <th>0</th>\n",
       "      <td>3298</td>\n",
       "      <td>862</td>\n",
       "    </tr>\n",
       "    <tr>\n",
       "      <th>1</th>\n",
       "      <td>979</td>\n",
       "      <td>3211</td>\n",
       "    </tr>\n",
       "  </tbody>\n",
       "</table>\n",
       "</div>"
      ],
      "text/plain": [
       "Predicted Class     0     1\n",
       "Actual Class               \n",
       "0                3298   862\n",
       "1                 979  3211"
      ]
     },
     "execution_count": 23,
     "metadata": {},
     "output_type": "execute_result"
    }
   ],
   "source": [
    "pd.crosstab(y_test, y_pred, rownames=['Actual Class'], colnames=['Predicted Class']) #To see how many the model got wrong"
   ]
  },
  {
   "cell_type": "markdown",
   "id": "41d3abd5",
   "metadata": {},
   "source": [
    "The trees method got more wrong as seen by the crosstab report and the accuracy score. The scores are lower than for the k nearest neighbours. It did worse (not by much, only by 4%) because of the unclear labelling again where there were colour and absolute magnitude values of dwarfs and giants similar to each other. The same labelling problem as for the KNN, however, majority of the data points were in the correct area, so KNN found the correct areas of predictions and just put the testing data points of different target in there. For the decision tree, the predictions were confused by the similar colour and magnitude values of dwarfs and giants as well, so more wrong decisions and lower accuracy score."
   ]
  },
  {
   "cell_type": "code",
   "execution_count": 24,
   "id": "09e8a240",
   "metadata": {
    "ExecuteTime": {
     "end_time": "2022-11-30T12:09:03.470442Z",
     "start_time": "2022-11-30T12:09:03.447619Z"
    }
   },
   "outputs": [
    {
     "data": {
      "text/html": [
       "<div>\n",
       "<style scoped>\n",
       "    .dataframe tbody tr th:only-of-type {\n",
       "        vertical-align: middle;\n",
       "    }\n",
       "\n",
       "    .dataframe tbody tr th {\n",
       "        vertical-align: top;\n",
       "    }\n",
       "\n",
       "    .dataframe thead th {\n",
       "        text-align: right;\n",
       "    }\n",
       "</style>\n",
       "<table border=\"1\" class=\"dataframe\">\n",
       "  <thead>\n",
       "    <tr style=\"text-align: right;\">\n",
       "      <th></th>\n",
       "      <th>B-V</th>\n",
       "      <th>abs_Vmag</th>\n",
       "      <th>Target</th>\n",
       "    </tr>\n",
       "  </thead>\n",
       "  <tbody>\n",
       "    <tr>\n",
       "      <th>0</th>\n",
       "      <td>0.06</td>\n",
       "      <td>11.99</td>\n",
       "      <td>Dwarf</td>\n",
       "    </tr>\n",
       "    <tr>\n",
       "      <th>1</th>\n",
       "      <td>1.52</td>\n",
       "      <td>14.68</td>\n",
       "      <td>Giant</td>\n",
       "    </tr>\n",
       "    <tr>\n",
       "      <th>2</th>\n",
       "      <td>1.31</td>\n",
       "      <td>16.98</td>\n",
       "      <td>Giant</td>\n",
       "    </tr>\n",
       "    <tr>\n",
       "      <th>3</th>\n",
       "      <td>1.17</td>\n",
       "      <td>16.92</td>\n",
       "      <td>Giant</td>\n",
       "    </tr>\n",
       "    <tr>\n",
       "      <th>4</th>\n",
       "      <td>0.44</td>\n",
       "      <td>18.08</td>\n",
       "      <td>Dwarf</td>\n",
       "    </tr>\n",
       "    <tr>\n",
       "      <th>...</th>\n",
       "      <td>...</td>\n",
       "      <td>...</td>\n",
       "      <td>...</td>\n",
       "    </tr>\n",
       "    <tr>\n",
       "      <th>41745</th>\n",
       "      <td>0.19</td>\n",
       "      <td>16.63</td>\n",
       "      <td>Dwarf</td>\n",
       "    </tr>\n",
       "    <tr>\n",
       "      <th>41746</th>\n",
       "      <td>0.07</td>\n",
       "      <td>15.86</td>\n",
       "      <td>Giant</td>\n",
       "    </tr>\n",
       "    <tr>\n",
       "      <th>41747</th>\n",
       "      <td>0.70</td>\n",
       "      <td>19.02</td>\n",
       "      <td>Dwarf</td>\n",
       "    </tr>\n",
       "    <tr>\n",
       "      <th>41748</th>\n",
       "      <td>1.46</td>\n",
       "      <td>14.05</td>\n",
       "      <td>Giant</td>\n",
       "    </tr>\n",
       "    <tr>\n",
       "      <th>41749</th>\n",
       "      <td>0.50</td>\n",
       "      <td>19.62</td>\n",
       "      <td>Dwarf</td>\n",
       "    </tr>\n",
       "  </tbody>\n",
       "</table>\n",
       "<p>41750 rows × 3 columns</p>\n",
       "</div>"
      ],
      "text/plain": [
       "        B-V  abs_Vmag Target\n",
       "0      0.06     11.99  Dwarf\n",
       "1      1.52     14.68  Giant\n",
       "2      1.31     16.98  Giant\n",
       "3      1.17     16.92  Giant\n",
       "4      0.44     18.08  Dwarf\n",
       "...     ...       ...    ...\n",
       "41745  0.19     16.63  Dwarf\n",
       "41746  0.07     15.86  Giant\n",
       "41747  0.70     19.02  Dwarf\n",
       "41748  1.46     14.05  Giant\n",
       "41749  0.50     19.62  Dwarf\n",
       "\n",
       "[41750 rows x 3 columns]"
      ]
     },
     "execution_count": 24,
     "metadata": {},
     "output_type": "execute_result"
    }
   ],
   "source": [
    "#Making a new copy of the data to use on the decision trees plot\n",
    "df_tree =df_new.copy()\n",
    "df_tree.loc[df_tree[\"Target\"] == 1, \"Target\"] = 'Giant'\n",
    "df_tree.loc[df_tree[\"Target\"] == 0, \"Target\"] = 'Dwarf'\n",
    "df_tree"
   ]
  },
  {
   "cell_type": "code",
   "execution_count": 25,
   "id": "bfc0048a",
   "metadata": {
    "ExecuteTime": {
     "end_time": "2022-11-30T12:09:10.383568Z",
     "start_time": "2022-11-30T12:09:09.586104Z"
    }
   },
   "outputs": [
    {
     "data": {
      "image/png": "[encoded data removed]",
      "text/plain": [
       "<Figure size 1800x2160 with 1 Axes>"
      ]
     },
     "metadata": {
      "needs_background": "light"
     },
     "output_type": "display_data"
    }
   ],
   "source": [
    "#Visualising how the tree looks\n",
    "\n",
    "fig = plt.figure(figsize=(25,30)) #setting the figure size\n",
    "\n",
    "feature_names = df_tree.columns[:2] #picking the star's colour and the absolute magnitude feature\n",
    "target_names = df_tree['Target'].unique().tolist() #Getting the unique target names of 0=dwarf and 1=giant\n",
    "#plotting the tree\n",
    "picture = tree.plot_tree(dtree, #using the tree model \n",
    "                         feature_names = feature_names,#features used in modeling \n",
    "                         class_names = target_names, #target feature\n",
    "                         filled = True, #filled nodes\n",
    "                         rounded = True, #rounded corners\n",
    "                         max_depth=2) #number of levels of the tree displayed\n",
    "plt.savefig('tree_visualization.png') #saving the picture of the figure as png"
   ]
  },
  {
   "cell_type": "markdown",
   "id": "14a700d3",
   "metadata": {},
   "source": [
    "The decision tree starts with looking at the colour value and then narrows the selection down according to the absolute magnitude value."
   ]
  },
  {
   "cell_type": "markdown",
   "id": "ef2c4e37",
   "metadata": {},
   "source": [
    "## Modeling Random Forest"
   ]
  },
  {
   "cell_type": "markdown",
   "id": "90c347ed",
   "metadata": {},
   "source": [
    "Random forest should perform better than any other models here but will be probably constrained by the unclear labelling again."
   ]
  },
  {
   "cell_type": "code",
   "execution_count": 26,
   "id": "8ec6401b",
   "metadata": {
    "ExecuteTime": {
     "end_time": "2022-11-30T12:09:19.144746Z",
     "start_time": "2022-11-30T12:09:18.109577Z"
    }
   },
   "outputs": [
    {
     "data": {
      "text/html": [
       "<style>#sk-container-id-4 {color: black;background-color: white;}#sk-container-id-4 pre{padding: 0;}#sk-container-id-4 div.sk-toggleable {background-color: white;}#sk-container-id-4 label.sk-toggleable__label {cursor: pointer;display: block;width: 100%;margin-bottom: 0;padding: 0.3em;box-sizing: border-box;text-align: center;}#sk-container-id-4 label.sk-toggleable__label-arrow:before {content: \"▸\";float: left;margin-right: 0.25em;color: #696969;}#sk-container-id-4 label.sk-toggleable__label-arrow:hover:before {color: black;}#sk-container-id-4 div.sk-estimator:hover label.sk-toggleable__label-arrow:before {color: black;}#sk-container-id-4 div.sk-toggleable__content {max-height: 0;max-width: 0;overflow: hidden;text-align: left;background-color: #f0f8ff;}#sk-container-id-4 div.sk-toggleable__content pre {margin: 0.2em;color: black;border-radius: 0.25em;background-color: #f0f8ff;}#sk-container-id-4 input.sk-toggleable__control:checked~div.sk-toggleable__content {max-height: 200px;max-width: 100%;overflow: auto;}#sk-container-id-4 input.sk-toggleable__control:checked~label.sk-toggleable__label-arrow:before {content: \"▾\";}#sk-container-id-4 div.sk-estimator input.sk-toggleable__control:checked~label.sk-toggleable__label {background-color: #d4ebff;}#sk-container-id-4 div.sk-label input.sk-toggleable__control:checked~label.sk-toggleable__label {background-color: #d4ebff;}#sk-container-id-4 input.sk-hidden--visually {border: 0;clip: rect(1px 1px 1px 1px);clip: rect(1px, 1px, 1px, 1px);height: 1px;margin: -1px;overflow: hidden;padding: 0;position: absolute;width: 1px;}#sk-container-id-4 div.sk-estimator {font-family: monospace;background-color: #f0f8ff;border: 1px dotted black;border-radius: 0.25em;box-sizing: border-box;margin-bottom: 0.5em;}#sk-container-id-4 div.sk-estimator:hover {background-color: #d4ebff;}#sk-container-id-4 div.sk-parallel-item::after {content: \"\";width: 100%;border-bottom: 1px solid gray;flex-grow: 1;}#sk-container-id-4 div.sk-label:hover label.sk-toggleable__label {background-color: #d4ebff;}#sk-container-id-4 div.sk-serial::before {content: \"\";position: absolute;border-left: 1px solid gray;box-sizing: border-box;top: 0;bottom: 0;left: 50%;z-index: 0;}#sk-container-id-4 div.sk-serial {display: flex;flex-direction: column;align-items: center;background-color: white;padding-right: 0.2em;padding-left: 0.2em;position: relative;}#sk-container-id-4 div.sk-item {position: relative;z-index: 1;}#sk-container-id-4 div.sk-parallel {display: flex;align-items: stretch;justify-content: center;background-color: white;position: relative;}#sk-container-id-4 div.sk-item::before, #sk-container-id-4 div.sk-parallel-item::before {content: \"\";position: absolute;border-left: 1px solid gray;box-sizing: border-box;top: 0;bottom: 0;left: 50%;z-index: -1;}#sk-container-id-4 div.sk-parallel-item {display: flex;flex-direction: column;z-index: 1;position: relative;background-color: white;}#sk-container-id-4 div.sk-parallel-item:first-child::after {align-self: flex-end;width: 50%;}#sk-container-id-4 div.sk-parallel-item:last-child::after {align-self: flex-start;width: 50%;}#sk-container-id-4 div.sk-parallel-item:only-child::after {width: 0;}#sk-container-id-4 div.sk-dashed-wrapped {border: 1px dashed gray;margin: 0 0.4em 0.5em 0.4em;box-sizing: border-box;padding-bottom: 0.4em;background-color: white;}#sk-container-id-4 div.sk-label label {font-family: monospace;font-weight: bold;display: inline-block;line-height: 1.2em;}#sk-container-id-4 div.sk-label-container {text-align: center;}#sk-container-id-4 div.sk-container {/* jupyter's `normalize.less` sets `[hidden] { display: none; }` but bootstrap.min.css set `[hidden] { display: none !important; }` so we also need the `!important` here to be able to override the default hidden behavior on the sphinx rendered scikit-learn.org. See: https://github.com/scikit-learn/scikit-learn/issues/21755 */display: inline-block !important;position: relative;}#sk-container-id-4 div.sk-text-repr-fallback {display: none;}</style><div id=\"sk-container-id-4\" class=\"sk-top-container\"><div class=\"sk-text-repr-fallback\"><pre>RandomForestClassifier(n_jobs=2, random_state=42)</pre><b>In a Jupyter environment, please rerun this cell to show the HTML representation or trust the notebook. <br />On GitHub, the HTML representation is unable to render, please try loading this page with nbviewer.org.</b></div><div class=\"sk-container\" hidden><div class=\"sk-item\"><div class=\"sk-estimator sk-toggleable\"><input class=\"sk-toggleable__control sk-hidden--visually\" id=\"sk-estimator-id-4\" type=\"checkbox\" checked><label for=\"sk-estimator-id-4\" class=\"sk-toggleable__label sk-toggleable__label-arrow\">RandomForestClassifier</label><div class=\"sk-toggleable__content\"><pre>RandomForestClassifier(n_jobs=2, random_state=42)</pre></div></div></div></div></div>"
      ],
      "text/plain": [
       "RandomForestClassifier(n_jobs=2, random_state=42)"
      ]
     },
     "execution_count": 26,
     "metadata": {},
     "output_type": "execute_result"
    }
   ],
   "source": [
    "# making classifier object\n",
    "\n",
    "rf = RandomForestClassifier(n_jobs=2, random_state=42) #number of target variables is 2 so n_jobs=2\n",
    "\n",
    "# training classifier\n",
    "\n",
    "rf.fit(X_train, y_train)"
   ]
  },
  {
   "cell_type": "markdown",
   "id": "a9f64fec",
   "metadata": {},
   "source": [
    "### Collecting Random Forest Predictions and Evaluating"
   ]
  },
  {
   "cell_type": "code",
   "execution_count": 27,
   "id": "bddcb87d",
   "metadata": {
    "ExecuteTime": {
     "end_time": "2022-11-30T12:09:21.553023Z",
     "start_time": "2022-11-30T12:09:21.437333Z"
    },
    "collapsed": true
   },
   "outputs": [
    {
     "data": {
      "text/plain": [
       "[(1, 1),\n",
       " (1, 0),\n",
       " (0, 0),\n",
       " (1, 1),\n",
       " (0, 0),\n",
       " (1, 1),\n",
       " (0, 0),\n",
       " (1, 1),\n",
       " (0, 0),\n",
       " (0, 0),\n",
       " (1, 1),\n",
       " (1, 1),\n",
       " (0, 0),\n",
       " (0, 0),\n",
       " (1, 1),\n",
       " (0, 0),\n",
       " (0, 0),\n",
       " (1, 1),\n",
       " (0, 0),\n",
       " (1, 0),\n",
       " (1, 1),\n",
       " (0, 0),\n",
       " (1, 1),\n",
       " (1, 1),\n",
       " (0, 1),\n",
       " (1, 1),\n",
       " (1, 0),\n",
       " (1, 1),\n",
       " (0, 1),\n",
       " (0, 1),\n",
       " (0, 0),\n",
       " (1, 1),\n",
       " (1, 1),\n",
       " (0, 0),\n",
       " (0, 0),\n",
       " (1, 1),\n",
       " (1, 1),\n",
       " (1, 1),\n",
       " (1, 1),\n",
       " (0, 0),\n",
       " (1, 1),\n",
       " (1, 1),\n",
       " (1, 1),\n",
       " (0, 0),\n",
       " (0, 0),\n",
       " (1, 0),\n",
       " (1, 0),\n",
       " (1, 1),\n",
       " (0, 0),\n",
       " (0, 0),\n",
       " (0, 0),\n",
       " (0, 0),\n",
       " (1, 1),\n",
       " (1, 0),\n",
       " (0, 0),\n",
       " (1, 1),\n",
       " (1, 0),\n",
       " (0, 0),\n",
       " (0, 1),\n",
       " (0, 0),\n",
       " (1, 0),\n",
       " (1, 1),\n",
       " (0, 0),\n",
       " (1, 1),\n",
       " (0, 0),\n",
       " (0, 1),\n",
       " (1, 1),\n",
       " (0, 1),\n",
       " (0, 0),\n",
       " (1, 0),\n",
       " (1, 0),\n",
       " (1, 1),\n",
       " (1, 1),\n",
       " (1, 0),\n",
       " (0, 0),\n",
       " (0, 0),\n",
       " (0, 0),\n",
       " (1, 1),\n",
       " (1, 1),\n",
       " (0, 0),\n",
       " (0, 1),\n",
       " (0, 0),\n",
       " (0, 1),\n",
       " (0, 0),\n",
       " (0, 1),\n",
       " (0, 1),\n",
       " (0, 1),\n",
       " (1, 1),\n",
       " (0, 0),\n",
       " (0, 0),\n",
       " (0, 0),\n",
       " (0, 0),\n",
       " (1, 1),\n",
       " (0, 0),\n",
       " (1, 1),\n",
       " (0, 0),\n",
       " (0, 0),\n",
       " (1, 1),\n",
       " (1, 1),\n",
       " (0, 0),\n",
       " (1, 1),\n",
       " (1, 1),\n",
       " (1, 1),\n",
       " (0, 1),\n",
       " (1, 1),\n",
       " (0, 0),\n",
       " (1, 1),\n",
       " (0, 0),\n",
       " (1, 0),\n",
       " (0, 0),\n",
       " (0, 0),\n",
       " (0, 0),\n",
       " (1, 0),\n",
       " (1, 1),\n",
       " (0, 0),\n",
       " (1, 1),\n",
       " (0, 0),\n",
       " (0, 0),\n",
       " (0, 0),\n",
       " (1, 0),\n",
       " (1, 1),\n",
       " (0, 1),\n",
       " (1, 1),\n",
       " (1, 1),\n",
       " (0, 0),\n",
       " (1, 1),\n",
       " (1, 1),\n",
       " (1, 1),\n",
       " (1, 0),\n",
       " (1, 0),\n",
       " (0, 0),\n",
       " (0, 0),\n",
       " (0, 0),\n",
       " (1, 0),\n",
       " (0, 0),\n",
       " (0, 0),\n",
       " (0, 1),\n",
       " (0, 1),\n",
       " (0, 1),\n",
       " (0, 0),\n",
       " (1, 1),\n",
       " (0, 1),\n",
       " (1, 1),\n",
       " (0, 0),\n",
       " (1, 0),\n",
       " (1, 1),\n",
       " (1, 1),\n",
       " (1, 1),\n",
       " (0, 0),\n",
       " (0, 1),\n",
       " (1, 0),\n",
       " (0, 0),\n",
       " (1, 1),\n",
       " (0, 1),\n",
       " (1, 1),\n",
       " (1, 1),\n",
       " (0, 1),\n",
       " (0, 0),\n",
       " (0, 0),\n",
       " (1, 1),\n",
       " (1, 0),\n",
       " (0, 0),\n",
       " (0, 1),\n",
       " (1, 1),\n",
       " (1, 1),\n",
       " (1, 0),\n",
       " (0, 0),\n",
       " (0, 0),\n",
       " (1, 1),\n",
       " (1, 1),\n",
       " (0, 1),\n",
       " (0, 1),\n",
       " (1, 1),\n",
       " (0, 0),\n",
       " (0, 0),\n",
       " (0, 1),\n",
       " (1, 1),\n",
       " (0, 0),\n",
       " (1, 1),\n",
       " (1, 1),\n",
       " (1, 1),\n",
       " (1, 1),\n",
       " (0, 1),\n",
       " (0, 1),\n",
       " (0, 1),\n",
       " (1, 1),\n",
       " (0, 0),\n",
       " (1, 1),\n",
       " (0, 0),\n",
       " (1, 1),\n",
       " (1, 1),\n",
       " (1, 1),\n",
       " (1, 0),\n",
       " (1, 1),\n",
       " (1, 1),\n",
       " (1, 1),\n",
       " (0, 0),\n",
       " (1, 0),\n",
       " (0, 0),\n",
       " (1, 1),\n",
       " (0, 0),\n",
       " (1, 0),\n",
       " (0, 0),\n",
       " (0, 0),\n",
       " (1, 1),\n",
       " (1, 1),\n",
       " (1, 1),\n",
       " (1, 1),\n",
       " (1, 0),\n",
       " (0, 0),\n",
       " (1, 1),\n",
       " (1, 1),\n",
       " (0, 0),\n",
       " (1, 1),\n",
       " (1, 0),\n",
       " (1, 1),\n",
       " (0, 0),\n",
       " (0, 0),\n",
       " (0, 0),\n",
       " (0, 0),\n",
       " (0, 0),\n",
       " (1, 0),\n",
       " (1, 1),\n",
       " (1, 0),\n",
       " (0, 0),\n",
       " (1, 1),\n",
       " (1, 1),\n",
       " (1, 0),\n",
       " (0, 1),\n",
       " (1, 0),\n",
       " (1, 1),\n",
       " (1, 1),\n",
       " (0, 0),\n",
       " (0, 0),\n",
       " (1, 1),\n",
       " (0, 0),\n",
       " (1, 1),\n",
       " (1, 1),\n",
       " (0, 1),\n",
       " (0, 0),\n",
       " (0, 1),\n",
       " (0, 0),\n",
       " (0, 0),\n",
       " (0, 1),\n",
       " (0, 0),\n",
       " (0, 1),\n",
       " (0, 1),\n",
       " (0, 0),\n",
       " (1, 0),\n",
       " (1, 1),\n",
       " (0, 1),\n",
       " (0, 0),\n",
       " (0, 1),\n",
       " (0, 0),\n",
       " (1, 1),\n",
       " (0, 0),\n",
       " (0, 0),\n",
       " (0, 0),\n",
       " (0, 0),\n",
       " (0, 0),\n",
       " (0, 0),\n",
       " (1, 0),\n",
       " (0, 0),\n",
       " (1, 1),\n",
       " (1, 0),\n",
       " (1, 1),\n",
       " (0, 1),\n",
       " (1, 0),\n",
       " (0, 1),\n",
       " (1, 1),\n",
       " (1, 1),\n",
       " (0, 0),\n",
       " (0, 0),\n",
       " (0, 1),\n",
       " (0, 0),\n",
       " (0, 0),\n",
       " (1, 1),\n",
       " (0, 0),\n",
       " (0, 0),\n",
       " (0, 0),\n",
       " (1, 1),\n",
       " (1, 0),\n",
       " (1, 1),\n",
       " (1, 1),\n",
       " (0, 0),\n",
       " (0, 0),\n",
       " (0, 0),\n",
       " (0, 0),\n",
       " (0, 0),\n",
       " (1, 1),\n",
       " (1, 0),\n",
       " (0, 0),\n",
       " (1, 1),\n",
       " (0, 0),\n",
       " (1, 1),\n",
       " (1, 1),\n",
       " (0, 0),\n",
       " (0, 0),\n",
       " (0, 0),\n",
       " (0, 0),\n",
       " (0, 0),\n",
       " (1, 0),\n",
       " (1, 0),\n",
       " (0, 0),\n",
       " (1, 1),\n",
       " (1, 1),\n",
       " (1, 1),\n",
       " (0, 0),\n",
       " (1, 1),\n",
       " (1, 1),\n",
       " (1, 1),\n",
       " (0, 0),\n",
       " (0, 0),\n",
       " (0, 1),\n",
       " (0, 0),\n",
       " (1, 0),\n",
       " (1, 1),\n",
       " (0, 0),\n",
       " (0, 1),\n",
       " (1, 1),\n",
       " (0, 0),\n",
       " (0, 0),\n",
       " (0, 0),\n",
       " (1, 0),\n",
       " (0, 0),\n",
       " (1, 1),\n",
       " (1, 1),\n",
       " (0, 1),\n",
       " (0, 1),\n",
       " (1, 1),\n",
       " (0, 0),\n",
       " (0, 0),\n",
       " (0, 0),\n",
       " (1, 1),\n",
       " (1, 1),\n",
       " (0, 0),\n",
       " (0, 0),\n",
       " (0, 0),\n",
       " (1, 1),\n",
       " (0, 0),\n",
       " (1, 1),\n",
       " (0, 0),\n",
       " (0, 0),\n",
       " (1, 1),\n",
       " (0, 1),\n",
       " (0, 0),\n",
       " (1, 1),\n",
       " (1, 1),\n",
       " (0, 1),\n",
       " (0, 0),\n",
       " (0, 0),\n",
       " (0, 0),\n",
       " (1, 1),\n",
       " (0, 0),\n",
       " (1, 0),\n",
       " (0, 1),\n",
       " (1, 1),\n",
       " (0, 0),\n",
       " (0, 0),\n",
       " (1, 1),\n",
       " (0, 0),\n",
       " (0, 0),\n",
       " (0, 1),\n",
       " (1, 1),\n",
       " (1, 1),\n",
       " (0, 1),\n",
       " (1, 1),\n",
       " (0, 0),\n",
       " (0, 1),\n",
       " (0, 0),\n",
       " (1, 0),\n",
       " (0, 0),\n",
       " (0, 0),\n",
       " (0, 1),\n",
       " (0, 0),\n",
       " (1, 1),\n",
       " (0, 0),\n",
       " (0, 1),\n",
       " (1, 1),\n",
       " (1, 1),\n",
       " (0, 1),\n",
       " (0, 0),\n",
       " (0, 0),\n",
       " (1, 1),\n",
       " (0, 0),\n",
       " (0, 1),\n",
       " (0, 0),\n",
       " (0, 0),\n",
       " (1, 1),\n",
       " (1, 1),\n",
       " (1, 1),\n",
       " (0, 0),\n",
       " (1, 1),\n",
       " (0, 1),\n",
       " (1, 1),\n",
       " (1, 1),\n",
       " (1, 1),\n",
       " (0, 1),\n",
       " (0, 0),\n",
       " (0, 0),\n",
       " (0, 0),\n",
       " (1, 1),\n",
       " (0, 1),\n",
       " (1, 1),\n",
       " (1, 1),\n",
       " (0, 0),\n",
       " (1, 0),\n",
       " (1, 1),\n",
       " (1, 1),\n",
       " (1, 1),\n",
       " (0, 0),\n",
       " (0, 0),\n",
       " (0, 0),\n",
       " (1, 1),\n",
       " (1, 0),\n",
       " (1, 1),\n",
       " (0, 1),\n",
       " (1, 1),\n",
       " (0, 0),\n",
       " (0, 0),\n",
       " (1, 1),\n",
       " (1, 1),\n",
       " (1, 1),\n",
       " (1, 1),\n",
       " (1, 1),\n",
       " (1, 1),\n",
       " (0, 0),\n",
       " (0, 0),\n",
       " (1, 1),\n",
       " (0, 0),\n",
       " (1, 1),\n",
       " (0, 1),\n",
       " (0, 1),\n",
       " (0, 0),\n",
       " (0, 0),\n",
       " (0, 0),\n",
       " (1, 1),\n",
       " (0, 0),\n",
       " (0, 0),\n",
       " (1, 1),\n",
       " (0, 0),\n",
       " (1, 1),\n",
       " (0, 0),\n",
       " (0, 0),\n",
       " (0, 0),\n",
       " (1, 0),\n",
       " (0, 0),\n",
       " (1, 1),\n",
       " (1, 1),\n",
       " (0, 0),\n",
       " (0, 1),\n",
       " (1, 1),\n",
       " (0, 0),\n",
       " (1, 1),\n",
       " (1, 1),\n",
       " (0, 0),\n",
       " (0, 0),\n",
       " (1, 1),\n",
       " (1, 1),\n",
       " (0, 0),\n",
       " (0, 1),\n",
       " (1, 1),\n",
       " (0, 0),\n",
       " (0, 0),\n",
       " (0, 0),\n",
       " (1, 1),\n",
       " (0, 0),\n",
       " (0, 0),\n",
       " (0, 1),\n",
       " (1, 0),\n",
       " (1, 1),\n",
       " (0, 0),\n",
       " (0, 1),\n",
       " (1, 1),\n",
       " (0, 0),\n",
       " (1, 1),\n",
       " (0, 0),\n",
       " (0, 1),\n",
       " (0, 0),\n",
       " (1, 1),\n",
       " (1, 1),\n",
       " (1, 1),\n",
       " (0, 0),\n",
       " (1, 1),\n",
       " (1, 1),\n",
       " (0, 0),\n",
       " (1, 1),\n",
       " (1, 1),\n",
       " (1, 1),\n",
       " (1, 1),\n",
       " (1, 1),\n",
       " (1, 1),\n",
       " (0, 0),\n",
       " (1, 1),\n",
       " (1, 1),\n",
       " (0, 0),\n",
       " (1, 0),\n",
       " (1, 1),\n",
       " (0, 0),\n",
       " (0, 1),\n",
       " (1, 1),\n",
       " (0, 0),\n",
       " (0, 0),\n",
       " (1, 1),\n",
       " (1, 1),\n",
       " (1, 1),\n",
       " (0, 0),\n",
       " (0, 0),\n",
       " (0, 0),\n",
       " (0, 0),\n",
       " (1, 1),\n",
       " (0, 0),\n",
       " (0, 0),\n",
       " (0, 0),\n",
       " (1, 1),\n",
       " (1, 0),\n",
       " (1, 1),\n",
       " (0, 0),\n",
       " (0, 0),\n",
       " (0, 0),\n",
       " (1, 1),\n",
       " (0, 0),\n",
       " (1, 1),\n",
       " (0, 1),\n",
       " (0, 0),\n",
       " (0, 0),\n",
       " (0, 0),\n",
       " (0, 0),\n",
       " (1, 1),\n",
       " (0, 1),\n",
       " (0, 1),\n",
       " (1, 1),\n",
       " (1, 1),\n",
       " (0, 0),\n",
       " (1, 1),\n",
       " (1, 1),\n",
       " (1, 1),\n",
       " (0, 0),\n",
       " (0, 0),\n",
       " (1, 1),\n",
       " (1, 1),\n",
       " (0, 1),\n",
       " (0, 1),\n",
       " (1, 1),\n",
       " (0, 0),\n",
       " (1, 1),\n",
       " (0, 0),\n",
       " (0, 0),\n",
       " (1, 1),\n",
       " (0, 0),\n",
       " (1, 1),\n",
       " (0, 0),\n",
       " (0, 0),\n",
       " (1, 1),\n",
       " (1, 0),\n",
       " (1, 1),\n",
       " (0, 0),\n",
       " (1, 0),\n",
       " (0, 0),\n",
       " (0, 0),\n",
       " (1, 0),\n",
       " (0, 0),\n",
       " (1, 1),\n",
       " (1, 1),\n",
       " (0, 0),\n",
       " (0, 1),\n",
       " (0, 0),\n",
       " (0, 0),\n",
       " (1, 1),\n",
       " (0, 1),\n",
       " (1, 0),\n",
       " (0, 0),\n",
       " (0, 0),\n",
       " (1, 1),\n",
       " (1, 1),\n",
       " (0, 0),\n",
       " (1, 1),\n",
       " (0, 0),\n",
       " (0, 1),\n",
       " (1, 1),\n",
       " (0, 1),\n",
       " (0, 0),\n",
       " (1, 1),\n",
       " (0, 0),\n",
       " (1, 0),\n",
       " (1, 1),\n",
       " (0, 0),\n",
       " (0, 0),\n",
       " (0, 0),\n",
       " (1, 1),\n",
       " (0, 0),\n",
       " (1, 1),\n",
       " (0, 0),\n",
       " (1, 0),\n",
       " (1, 1),\n",
       " (1, 1),\n",
       " (0, 0),\n",
       " (0, 0),\n",
       " (1, 1),\n",
       " (1, 1),\n",
       " (0, 0),\n",
       " (1, 1),\n",
       " (0, 0),\n",
       " (1, 1),\n",
       " (0, 1),\n",
       " (0, 0),\n",
       " (0, 0),\n",
       " (0, 0),\n",
       " (0, 0),\n",
       " (1, 1),\n",
       " (0, 0),\n",
       " (0, 0),\n",
       " (1, 1),\n",
       " (1, 0),\n",
       " (0, 0),\n",
       " (1, 1),\n",
       " (1, 1),\n",
       " (1, 1),\n",
       " (0, 0),\n",
       " (1, 1),\n",
       " (1, 1),\n",
       " (1, 1),\n",
       " (1, 1),\n",
       " (1, 0),\n",
       " (1, 1),\n",
       " (1, 0),\n",
       " (0, 0),\n",
       " (1, 1),\n",
       " (1, 1),\n",
       " (0, 0),\n",
       " (0, 0),\n",
       " (1, 1),\n",
       " (1, 0),\n",
       " (0, 0),\n",
       " (0, 1),\n",
       " (1, 1),\n",
       " (0, 0),\n",
       " (0, 0),\n",
       " (1, 1),\n",
       " (0, 0),\n",
       " (1, 1),\n",
       " (0, 0),\n",
       " (1, 1),\n",
       " (0, 1),\n",
       " (0, 0),\n",
       " (0, 0),\n",
       " (0, 0),\n",
       " (0, 1),\n",
       " (0, 0),\n",
       " (1, 1),\n",
       " (1, 1),\n",
       " (1, 0),\n",
       " (1, 1),\n",
       " (0, 0),\n",
       " (1, 1),\n",
       " (1, 1),\n",
       " (1, 0),\n",
       " (1, 1),\n",
       " (0, 0),\n",
       " (1, 1),\n",
       " (1, 1),\n",
       " (1, 1),\n",
       " (1, 1),\n",
       " (1, 1),\n",
       " (0, 0),\n",
       " (1, 1),\n",
       " (1, 1),\n",
       " (1, 1),\n",
       " (0, 0),\n",
       " (1, 1),\n",
       " (1, 1),\n",
       " (0, 0),\n",
       " (0, 0),\n",
       " (0, 0),\n",
       " (1, 1),\n",
       " (1, 1),\n",
       " (1, 1),\n",
       " (1, 1),\n",
       " (1, 1),\n",
       " (0, 0),\n",
       " (0, 0),\n",
       " (1, 0),\n",
       " (1, 1),\n",
       " (0, 1),\n",
       " (1, 1),\n",
       " (1, 1),\n",
       " (1, 1),\n",
       " (1, 1),\n",
       " (0, 0),\n",
       " (1, 0),\n",
       " (0, 0),\n",
       " (0, 0),\n",
       " (1, 1),\n",
       " (0, 1),\n",
       " (0, 0),\n",
       " (1, 1),\n",
       " (0, 0),\n",
       " (1, 0),\n",
       " (0, 0),\n",
       " (1, 1),\n",
       " (0, 0),\n",
       " (1, 0),\n",
       " (1, 1),\n",
       " (0, 0),\n",
       " (0, 1),\n",
       " (0, 0),\n",
       " (1, 0),\n",
       " (0, 0),\n",
       " (1, 1),\n",
       " (0, 0),\n",
       " (1, 1),\n",
       " (0, 1),\n",
       " (1, 1),\n",
       " (1, 1),\n",
       " (0, 0),\n",
       " (1, 1),\n",
       " (0, 0),\n",
       " (0, 0),\n",
       " (0, 0),\n",
       " (1, 1),\n",
       " (0, 0),\n",
       " (1, 1),\n",
       " (0, 0),\n",
       " (1, 1),\n",
       " (1, 0),\n",
       " (1, 1),\n",
       " (1, 1),\n",
       " (0, 0),\n",
       " (1, 1),\n",
       " (0, 0),\n",
       " (1, 0),\n",
       " (1, 1),\n",
       " (0, 0),\n",
       " (0, 1),\n",
       " (0, 0),\n",
       " (1, 1),\n",
       " (1, 1),\n",
       " (1, 1),\n",
       " (1, 1),\n",
       " (1, 1),\n",
       " (0, 0),\n",
       " (0, 1),\n",
       " (0, 0),\n",
       " (1, 1),\n",
       " (0, 0),\n",
       " (1, 1),\n",
       " (0, 0),\n",
       " (1, 1),\n",
       " (0, 0),\n",
       " (0, 0),\n",
       " (0, 1),\n",
       " (1, 0),\n",
       " (0, 0),\n",
       " (1, 1),\n",
       " (0, 0),\n",
       " (1, 0),\n",
       " (0, 1),\n",
       " (1, 1),\n",
       " (1, 0),\n",
       " (0, 0),\n",
       " (1, 1),\n",
       " (0, 1),\n",
       " (0, 0),\n",
       " (0, 0),\n",
       " (0, 0),\n",
       " (0, 1),\n",
       " (0, 0),\n",
       " (0, 1),\n",
       " (0, 0),\n",
       " (0, 1),\n",
       " (1, 1),\n",
       " (0, 1),\n",
       " (0, 0),\n",
       " (0, 0),\n",
       " (0, 0),\n",
       " (1, 1),\n",
       " (1, 0),\n",
       " (0, 0),\n",
       " (0, 0),\n",
       " (1, 1),\n",
       " (1, 1),\n",
       " (1, 1),\n",
       " (1, 1),\n",
       " (1, 0),\n",
       " (0, 0),\n",
       " (1, 1),\n",
       " (0, 0),\n",
       " (0, 0),\n",
       " (1, 1),\n",
       " (0, 0),\n",
       " (0, 0),\n",
       " (0, 0),\n",
       " (1, 1),\n",
       " (0, 0),\n",
       " (0, 0),\n",
       " (1, 1),\n",
       " (1, 1),\n",
       " (1, 1),\n",
       " (1, 1),\n",
       " (0, 0),\n",
       " (0, 1),\n",
       " (1, 0),\n",
       " (1, 1),\n",
       " (1, 1),\n",
       " (0, 0),\n",
       " (1, 1),\n",
       " (0, 0),\n",
       " (0, 0),\n",
       " (0, 0),\n",
       " (0, 0),\n",
       " (1, 1),\n",
       " (1, 1),\n",
       " (0, 0),\n",
       " (1, 1),\n",
       " (0, 1),\n",
       " (1, 1),\n",
       " (1, 1),\n",
       " (1, 1),\n",
       " (1, 1),\n",
       " (0, 0),\n",
       " (0, 0),\n",
       " (0, 1),\n",
       " (0, 0),\n",
       " (0, 1),\n",
       " (1, 0),\n",
       " (1, 1),\n",
       " (1, 1),\n",
       " (1, 1),\n",
       " (0, 0),\n",
       " (0, 0),\n",
       " (0, 1),\n",
       " (0, 1),\n",
       " (0, 1),\n",
       " (1, 1),\n",
       " (0, 0),\n",
       " (0, 0),\n",
       " (1, 1),\n",
       " (1, 1),\n",
       " (0, 0),\n",
       " (1, 1),\n",
       " (0, 0),\n",
       " (1, 0),\n",
       " (0, 0),\n",
       " (1, 1),\n",
       " (1, 1),\n",
       " (0, 0),\n",
       " (0, 0),\n",
       " (0, 0),\n",
       " (1, 1),\n",
       " (1, 1),\n",
       " (0, 0),\n",
       " (0, 1),\n",
       " (1, 0),\n",
       " (1, 1),\n",
       " (1, 1),\n",
       " (0, 0),\n",
       " (1, 1),\n",
       " (1, 1),\n",
       " (0, 1),\n",
       " (1, 1),\n",
       " (0, 0),\n",
       " (0, 0),\n",
       " (1, 1),\n",
       " (1, 1),\n",
       " (0, 0),\n",
       " (0, 0),\n",
       " (1, 1),\n",
       " (1, 1),\n",
       " (0, 0),\n",
       " (1, 1),\n",
       " (0, 0),\n",
       " (0, 0),\n",
       " (1, 1),\n",
       " (0, 0),\n",
       " (1, 1),\n",
       " (0, 0),\n",
       " (1, 0),\n",
       " (0, 0),\n",
       " (0, 0),\n",
       " (0, 0),\n",
       " (0, 1),\n",
       " (1, 1),\n",
       " (0, 0),\n",
       " (0, 0),\n",
       " (0, 0),\n",
       " (1, 1),\n",
       " (1, 1),\n",
       " (0, 0),\n",
       " (0, 0),\n",
       " (1, 0),\n",
       " (1, 1),\n",
       " (0, 0),\n",
       " (1, 0),\n",
       " (1, 1),\n",
       " (1, 1),\n",
       " (1, 1),\n",
       " (0, 1),\n",
       " (0, 1),\n",
       " (1, 0),\n",
       " (1, 0),\n",
       " (0, 0),\n",
       " (1, 1),\n",
       " (0, 0),\n",
       " (1, 1),\n",
       " (0, 0),\n",
       " (1, 0),\n",
       " (0, 0),\n",
       " (1, 1),\n",
       " (0, 0),\n",
       " (0, 1),\n",
       " (0, 0),\n",
       " (1, 1),\n",
       " (0, 0),\n",
       " (0, 0),\n",
       " (0, 0),\n",
       " (1, 0),\n",
       " (1, 1),\n",
       " (1, 1),\n",
       " (0, 0),\n",
       " (1, 1),\n",
       " (1, 1),\n",
       " (1, 0),\n",
       " (0, 1),\n",
       " (0, 0),\n",
       " (1, 0),\n",
       " (0, 0),\n",
       " (0, 1),\n",
       " (1, 1),\n",
       " (1, 1),\n",
       " (1, 1),\n",
       " (1, 0),\n",
       " (0, 0),\n",
       " (0, 0),\n",
       " (0, 0),\n",
       " (1, 1),\n",
       " (0, 1),\n",
       " (0, 1),\n",
       " (1, 1),\n",
       " (0, 1),\n",
       " (0, 0),\n",
       " (0, 1),\n",
       " (0, 0),\n",
       " (0, 0),\n",
       " (0, 0),\n",
       " (1, 1),\n",
       " (0, 0),\n",
       " (0, 0),\n",
       " (1, 0),\n",
       " (1, 0),\n",
       " (0, 0),\n",
       " (0, 0),\n",
       " (0, 0),\n",
       " (0, 0),\n",
       " (1, 1),\n",
       " (0, 1),\n",
       " (0, 0),\n",
       " (1, 1),\n",
       " (1, 1),\n",
       " (1, 0),\n",
       " (0, 0),\n",
       " (1, 1),\n",
       " (0, 0),\n",
       " (1, 1),\n",
       " (0, 0),\n",
       " (0, 0),\n",
       " (0, 1),\n",
       " (0, 0),\n",
       " (0, 1),\n",
       " (1, 1),\n",
       " (0, 0),\n",
       " (0, 0),\n",
       " (0, 1),\n",
       " (1, 1),\n",
       " (0, 1),\n",
       " (0, 0),\n",
       " (0, 0),\n",
       " (0, 0),\n",
       " (0, 0),\n",
       " (1, 1),\n",
       " (0, 1),\n",
       " (0, 0),\n",
       " (1, 1),\n",
       " (0, 0),\n",
       " (1, 1),\n",
       " (1, 0),\n",
       " (1, 1),\n",
       " (1, 0),\n",
       " (1, 1),\n",
       " (0, 1),\n",
       " (0, 0),\n",
       " (1, 1),\n",
       " (0, 0),\n",
       " (0, 0),\n",
       " (0, 1),\n",
       " (1, 1),\n",
       " (0, 1),\n",
       " (0, 0),\n",
       " (0, 0),\n",
       " (1, 1),\n",
       " (0, 0),\n",
       " ...]"
      ]
     },
     "execution_count": 27,
     "metadata": {},
     "output_type": "execute_result"
    }
   ],
   "source": [
    "pred_rf = rf.predict(X_test) #collecting predicitons\n",
    "list(zip(pred_rf, y_test)) #listing them alongside the real values of y test"
   ]
  },
  {
   "cell_type": "code",
   "execution_count": 28,
   "id": "e73cf13f",
   "metadata": {
    "ExecuteTime": {
     "end_time": "2022-11-30T12:09:25.618457Z",
     "start_time": "2022-11-30T12:09:25.597810Z"
    }
   },
   "outputs": [
    {
     "name": "stdout",
     "output_type": "stream",
     "text": [
      "              precision    recall  f1-score   support\n",
      "\n",
      "           0       0.79      0.81      0.80      4160\n",
      "           1       0.80      0.79      0.79      4190\n",
      "\n",
      "    accuracy                           0.80      8350\n",
      "   macro avg       0.80      0.80      0.80      8350\n",
      "weighted avg       0.80      0.80      0.80      8350\n",
      "\n"
     ]
    }
   ],
   "source": [
    "print(classification_report(y_test, pred_rf)) #classification report"
   ]
  },
  {
   "cell_type": "code",
   "execution_count": 29,
   "id": "ed857026",
   "metadata": {
    "ExecuteTime": {
     "end_time": "2022-11-30T12:09:27.820798Z",
     "start_time": "2022-11-30T12:09:27.792963Z"
    }
   },
   "outputs": [
    {
     "data": {
      "text/html": [
       "<div>\n",
       "<style scoped>\n",
       "    .dataframe tbody tr th:only-of-type {\n",
       "        vertical-align: middle;\n",
       "    }\n",
       "\n",
       "    .dataframe tbody tr th {\n",
       "        vertical-align: top;\n",
       "    }\n",
       "\n",
       "    .dataframe thead th {\n",
       "        text-align: right;\n",
       "    }\n",
       "</style>\n",
       "<table border=\"1\" class=\"dataframe\">\n",
       "  <thead>\n",
       "    <tr style=\"text-align: right;\">\n",
       "      <th>Predicted Class</th>\n",
       "      <th>0</th>\n",
       "      <th>1</th>\n",
       "    </tr>\n",
       "    <tr>\n",
       "      <th>Actual Class</th>\n",
       "      <th></th>\n",
       "      <th></th>\n",
       "    </tr>\n",
       "  </thead>\n",
       "  <tbody>\n",
       "    <tr>\n",
       "      <th>0</th>\n",
       "      <td>3355</td>\n",
       "      <td>805</td>\n",
       "    </tr>\n",
       "    <tr>\n",
       "      <th>1</th>\n",
       "      <td>900</td>\n",
       "      <td>3290</td>\n",
       "    </tr>\n",
       "  </tbody>\n",
       "</table>\n",
       "</div>"
      ],
      "text/plain": [
       "Predicted Class     0     1\n",
       "Actual Class               \n",
       "0                3355   805\n",
       "1                 900  3290"
      ]
     },
     "execution_count": 29,
     "metadata": {},
     "output_type": "execute_result"
    }
   ],
   "source": [
    "#Cross validation\n",
    "\n",
    "pd.crosstab(y_test, pred_rf, rownames=['Actual Class'], colnames=['Predicted Class'])"
   ]
  },
  {
   "cell_type": "markdown",
   "id": "a66e5ee2",
   "metadata": {},
   "source": [
    "## Conclusions"
   ]
  },
  {
   "cell_type": "markdown",
   "id": "06d6feb1",
   "metadata": {},
   "source": [
    "### Comparison and the constraints\n",
    "\n",
    "* The random forest did better than the tree. Some of the quality scores (recall) are also doing better for it than for the KNN. The forest guessed more giants correctly but assumed a lot more dwarfs to be giants. As explained before, might not be the model but how a small amount of data has just unclear labelling (\"IV/V\" - in-between the two stages).\n",
    "\n",
    "* It does not mean that the source is wrong. It could be that some yellow dwarfs were transforming into red giants. Unfortunately, in real life the stars do not have that clear cut values, measurement errors are made and only really estimations can be made.\n",
    "\n",
    "* The main constraint of the project was the unclear labelling in the minority of the data. As the majority was in the correct areas, KNN was able to find the correct areas in the HR-diagram, however, failed where the testing data, for example, said dwarf but had measurement values of a giant.\n",
    "\n",
    "* Decision tree and the random forest, who were looking at the specific values, were, additionally, confused by the similar measurement values of a dwarf and giant in the training section, as well as in the testing section for the same reason.\n",
    "\n",
    "### Final Values\n",
    "\n",
    "Models' perfomances:\n",
    "\n",
    "1. KNN with an accuracy of 83%.\n",
    "2. Random forest with an accuracy of 80%.\n",
    "3. Decision tree with an accuracy of 78%.\n",
    "\n",
    "The models had minor differences in quality but in the case of \"pure data\" (clear cut values of giants and dwarfs) the decision trees and the random forest are expected to do better than KNN because they would be comparing the specific values of stars' colour and absolute magnitude with the previously tested data. KNN did better, in this case, because of the labelling constraint and it able to find the areas of giants and dwarfs according to the majority of the data.\n",
    "\n",
    "### Future Work\n",
    "\n",
    "* In the future, it can be looked into the data set more, how to make a more clear statement of what type of star the object is in the stage of \"IV/V\". Rather than just giant or dwarf, more specific subcategories like white dwarfs and red giants could be made.\n",
    "\n",
    "* Also, the other type of stars could be looked into and try to classify them as well.\n",
    "\n",
    "* New data set of stars' luminosity classes, magnitudes and colour could be collected to evaluate how the models work on the fresh data where the labelling is more clear."
   ]
  },
  {
   "cell_type": "code",
   "execution_count": null,
   "id": "3726405b",
   "metadata": {},
   "outputs": [],
   "source": []
  }
 ],
 "metadata": {
  "kernelspec": {
   "display_name": "Python 3 (ipykernel)",
   "language": "python",
   "name": "python3"
  },
  "language_info": {
   "codemirror_mode": {
    "name": "ipython",
    "version": 3
   },
   "file_extension": ".py",
   "mimetype": "text/x-python",
   "name": "python",
   "nbconvert_exporter": "python",
   "pygments_lexer": "ipython3",
   "version": "3.9.12"
  },
  "varInspector": {
   "cols": {
    "lenName": 16,
    "lenType": 16,
    "lenVar": 40
   },
   "kernels_config": {
    "python": {
     "delete_cmd_postfix": "",
     "delete_cmd_prefix": "del ",
     "library": "var_list.py",
     "varRefreshCmd": "print(var_dic_list())"
    },
    "r": {
     "delete_cmd_postfix": ") ",
     "delete_cmd_prefix": "rm(",
     "library": "var_list.r",
     "varRefreshCmd": "cat(var_dic_list()) "
    }
   },
   "types_to_exclude": [
    "module",
    "function",
    "builtin_function_or_method",
    "instance",
    "_Feature"
   ],
   "window_display": false
  }
 },
 "nbformat": 4,
 "nbformat_minor": 5
}
